{
 "cells": [
  {
   "cell_type": "code",
   "execution_count": 48,
   "metadata": {},
   "outputs": [],
   "source": [
    "import numpy as np\n",
    "import scipy\n",
    "from random import choice"
   ]
  },
  {
   "cell_type": "markdown",
   "metadata": {},
   "source": [
    "Define partial trace and Hermitian conjugate function"
   ]
  },
  {
   "cell_type": "markdown",
   "metadata": {},
   "source": [
    "Pauli matrices etc"
   ]
  },
  {
   "cell_type": "code",
   "execution_count": 49,
   "metadata": {},
   "outputs": [
    {
     "name": "stdout",
     "output_type": "stream",
     "text": [
      "[[1 0 0 0 0 0 0 0 0 0 0 0 0 0 0 0]\n",
      " [0 0 0 0 1 0 0 0 0 0 0 0 0 0 0 0]\n",
      " [0 0 0 0 0 0 0 0 1 0 0 0 0 0 0 0]\n",
      " [0 0 0 0 0 0 0 0 0 0 0 0 1 0 0 0]\n",
      " [0 1 0 0 0 0 0 0 0 0 0 0 0 0 0 0]\n",
      " [0 0 0 0 0 1 0 0 0 0 0 0 0 0 0 0]\n",
      " [0 0 0 0 0 0 0 0 0 1 0 0 0 0 0 0]\n",
      " [0 0 0 0 0 0 0 0 0 0 0 0 0 1 0 0]\n",
      " [0 0 1 0 0 0 0 0 0 0 0 0 0 0 0 0]\n",
      " [0 0 0 0 0 0 1 0 0 0 0 0 0 0 0 0]\n",
      " [0 0 0 0 0 0 0 0 0 0 1 0 0 0 0 0]\n",
      " [0 0 0 0 0 0 0 0 0 0 0 0 0 0 1 0]\n",
      " [0 0 0 1 0 0 0 0 0 0 0 0 0 0 0 0]\n",
      " [0 0 0 0 0 0 0 1 0 0 0 0 0 0 0 0]\n",
      " [0 0 0 0 0 0 0 0 0 0 0 1 0 0 0 0]\n",
      " [0 0 0 0 0 0 0 0 0 0 0 0 0 0 0 1]]\n"
     ]
    }
   ],
   "source": [
    "X = np.array([[0,1],\n",
    "              [1,0]])\n",
    "\n",
    "Y = np.array([[0,-1j],\n",
    "              [1j,0]])\n",
    "\n",
    "Z = np.array([[1,0],\n",
    "              [0,-1]])\n",
    "\n",
    "I = np.array([[1,0],\n",
    "              [0,1]])\n",
    "\n",
    "swap = np.array([[1, 0, 0, 0],\n",
    "            [0, 0, 1, 0],\n",
    "            [0, 1, 0, 0],\n",
    "            [0, 0, 0, 1]])\n",
    "\n",
    "_three_qubit_swap_q0_q2 = np.array([[1, 0, 0, 0, 0, 0, 0, 0],\n",
    "       [0, 0, 0, 0, 1, 0, 0, 0],\n",
    "       [0, 0, 1, 0, 0, 0, 0, 0],\n",
    "       [0, 0, 0, 0, 0, 0, 1, 0],\n",
    "       [0, 1, 0, 0, 0, 0, 0, 0],\n",
    "       [0, 0, 0, 0, 0, 1, 0, 0],\n",
    "       [0, 0, 0, 1, 0, 0, 0, 0],\n",
    "       [0, 0, 0, 0, 0, 0, 0, 1]])\n",
    "\n",
    "swap_02 = np.kron(_three_qubit_swap_q0_q2,I)\n",
    "swap_13 = np.kron(I,_three_qubit_swap_q0_q2)\n",
    "swap_2 = swap_02 @ swap_13\n",
    "print(swap_2)\n",
    "\n",
    "XX = np.kron(X,X)\n",
    "YY = np.kron(Y,Y)\n",
    "ZZ = np.kron(Z,Z)\n"
   ]
  },
  {
   "cell_type": "code",
   "execution_count": 50,
   "metadata": {},
   "outputs": [],
   "source": [
    "def ptrace(matrix,index=1,n1=4,n2=4):\n",
    "    # Partial trace function for density matrices.\n",
    "    current_tensor=matrix.reshape([n1, n2, n1, n2])\n",
    "    if index == 1:\n",
    "        return np.trace(current_tensor, axis1=1, axis2=3)\n",
    "    elif index == 2:\n",
    "        return np.trace(current_tensor, axis1=0, axis2=2)\n",
    "    else:\n",
    "        print('Error')\n",
    "\n",
    "def dagger(u):\n",
    "    return np.asarray(np.matrix(u).H)\n",
    "\n",
    "from scipy.linalg import sqrtm\n",
    "def fidelity(rho1, rho2):\n",
    "    # Compute the square root of the first density matrix\n",
    "    sqrt_rho1 = sqrtm(rho1)\n",
    "    # Compute the matrix product of sqrt(rho1) * rho2 * sqrt(rho1)\n",
    "    product = sqrt_rho1 @ rho2 @ sqrt_rho1    \n",
    "    # Compute the square root of the product matrix\n",
    "    sqrt_product = sqrtm(product)    \n",
    "    return np.real(np.trace(sqrt_product)) ** 2\n",
    "\n",
    "def measure(psi, projectors=None):\n",
    "    if projectors is None:\n",
    "        # Default to computational basis projectors for a qubit\n",
    "        projectors = [np.array([[1, 0], [0, 0]]),  # |0⟩⟨0|\n",
    "                      np.array([[0, 0], [0, 1]])]  # |1⟩⟨1|\n",
    "    \n",
    "    probs = [np.vdot(psi, P @ psi).real for P in projectors]\n",
    "    outcome = choice(len(projectors), p=probs)\n",
    "    return outcome\n",
    "\n"
   ]
  },
  {
   "cell_type": "markdown",
   "metadata": {},
   "source": [
    "Define the qubit initial density matrices"
   ]
  },
  {
   "cell_type": "code",
   "execution_count": 51,
   "metadata": {},
   "outputs": [],
   "source": [
    "# Computational state |00⟩\n",
    "state_00 = np.array([1, 0, 0, 0])  # Basis: |00⟩, |01⟩, |10⟩, |11⟩\n",
    "rho_plus = np.outer(state_00, state_00.conj().T)\n",
    "\n",
    "# First Bell state |Φ+⟩ = (|00⟩ + |11⟩) / sqrt(2)\n",
    "bell_state = np.array([1, 0, 0, 1]) / np.sqrt(2)\n",
    "rho_0 = np.outer(bell_state, bell_state.conj().T)\n",
    "\n",
    "t = 0.2"
   ]
  },
  {
   "cell_type": "markdown",
   "metadata": {},
   "source": [
    "Define the unitaries"
   ]
  },
  {
   "cell_type": "code",
   "execution_count": 52,
   "metadata": {},
   "outputs": [],
   "source": [
    "def U_rho(t,rho):\n",
    "    return scipy.linalg.expm(-1j*t*rho)"
   ]
  },
  {
   "cell_type": "code",
   "execution_count": 53,
   "metadata": {},
   "outputs": [
    {
     "data": {
      "text/plain": [
       "array([[0.5 +0.j   , 0.  +0.j   , 0.  +0.j   , 0.02+0.097j, 0.  +0.j   ,\n",
       "        0.  +0.j   , 0.  +0.j   , 0.  +0.j   , 0.  +0.j   , 0.  +0.j   ,\n",
       "        0.  +0.j   , 0.  +0.j   , 0.48-0.097j, 0.  +0.j   , 0.  +0.j   ,\n",
       "        0.  +0.j   ],\n",
       "       [0.  +0.j   , 0.  +0.j   , 0.  +0.j   , 0.  +0.j   , 0.  +0.j   ,\n",
       "        0.  +0.j   , 0.  +0.j   , 0.  +0.j   , 0.  +0.j   , 0.  +0.j   ,\n",
       "        0.  +0.j   , 0.  +0.j   , 0.  +0.j   , 0.  +0.j   , 0.  +0.j   ,\n",
       "        0.  +0.j   ],\n",
       "       [0.  +0.j   , 0.  +0.j   , 0.  +0.j   , 0.  +0.j   , 0.  +0.j   ,\n",
       "        0.  +0.j   , 0.  +0.j   , 0.  +0.j   , 0.  +0.j   , 0.  +0.j   ,\n",
       "        0.  +0.j   , 0.  +0.j   , 0.  +0.j   , 0.  +0.j   , 0.  +0.j   ,\n",
       "        0.  +0.j   ],\n",
       "       [0.02-0.097j, 0.  +0.j   , 0.  +0.j   , 0.02+0.j   , 0.  +0.j   ,\n",
       "        0.  +0.j   , 0.  +0.j   , 0.  +0.j   , 0.  +0.j   , 0.  +0.j   ,\n",
       "        0.  +0.j   , 0.  +0.j   , 0.  -0.097j, 0.  +0.j   , 0.  +0.j   ,\n",
       "        0.  +0.j   ],\n",
       "       [0.  +0.j   , 0.  +0.j   , 0.  +0.j   , 0.  +0.j   , 0.  +0.j   ,\n",
       "        0.  +0.j   , 0.  +0.j   , 0.  +0.j   , 0.  +0.j   , 0.  +0.j   ,\n",
       "        0.  +0.j   , 0.  +0.j   , 0.  +0.j   , 0.  +0.j   , 0.  +0.j   ,\n",
       "        0.  +0.j   ],\n",
       "       [0.  +0.j   , 0.  +0.j   , 0.  +0.j   , 0.  +0.j   , 0.  +0.j   ,\n",
       "        0.  +0.j   , 0.  +0.j   , 0.  +0.j   , 0.  +0.j   , 0.  +0.j   ,\n",
       "        0.  +0.j   , 0.  +0.j   , 0.  +0.j   , 0.  +0.j   , 0.  +0.j   ,\n",
       "        0.  +0.j   ],\n",
       "       [0.  +0.j   , 0.  +0.j   , 0.  +0.j   , 0.  +0.j   , 0.  +0.j   ,\n",
       "        0.  +0.j   , 0.  +0.j   , 0.  +0.j   , 0.  +0.j   , 0.  +0.j   ,\n",
       "        0.  +0.j   , 0.  +0.j   , 0.  +0.j   , 0.  +0.j   , 0.  +0.j   ,\n",
       "        0.  +0.j   ],\n",
       "       [0.  +0.j   , 0.  +0.j   , 0.  +0.j   , 0.  +0.j   , 0.  +0.j   ,\n",
       "        0.  +0.j   , 0.  +0.j   , 0.  +0.j   , 0.  +0.j   , 0.  +0.j   ,\n",
       "        0.  +0.j   , 0.  +0.j   , 0.  +0.j   , 0.  +0.j   , 0.  +0.j   ,\n",
       "        0.  +0.j   ],\n",
       "       [0.  +0.j   , 0.  +0.j   , 0.  +0.j   , 0.  +0.j   , 0.  +0.j   ,\n",
       "        0.  +0.j   , 0.  +0.j   , 0.  +0.j   , 0.  +0.j   , 0.  +0.j   ,\n",
       "        0.  +0.j   , 0.  +0.j   , 0.  +0.j   , 0.  +0.j   , 0.  +0.j   ,\n",
       "        0.  +0.j   ],\n",
       "       [0.  +0.j   , 0.  +0.j   , 0.  +0.j   , 0.  +0.j   , 0.  +0.j   ,\n",
       "        0.  +0.j   , 0.  +0.j   , 0.  +0.j   , 0.  +0.j   , 0.  +0.j   ,\n",
       "        0.  +0.j   , 0.  +0.j   , 0.  +0.j   , 0.  +0.j   , 0.  +0.j   ,\n",
       "        0.  +0.j   ],\n",
       "       [0.  +0.j   , 0.  +0.j   , 0.  +0.j   , 0.  +0.j   , 0.  +0.j   ,\n",
       "        0.  +0.j   , 0.  +0.j   , 0.  +0.j   , 0.  +0.j   , 0.  +0.j   ,\n",
       "        0.  +0.j   , 0.  +0.j   , 0.  +0.j   , 0.  +0.j   , 0.  +0.j   ,\n",
       "        0.  +0.j   ],\n",
       "       [0.  +0.j   , 0.  +0.j   , 0.  +0.j   , 0.  +0.j   , 0.  +0.j   ,\n",
       "        0.  +0.j   , 0.  +0.j   , 0.  +0.j   , 0.  +0.j   , 0.  +0.j   ,\n",
       "        0.  +0.j   , 0.  +0.j   , 0.  +0.j   , 0.  +0.j   , 0.  +0.j   ,\n",
       "        0.  +0.j   ],\n",
       "       [0.48+0.097j, 0.  +0.j   , 0.  +0.j   , 0.  +0.097j, 0.  +0.j   ,\n",
       "        0.  +0.j   , 0.  +0.j   , 0.  +0.j   , 0.  +0.j   , 0.  +0.j   ,\n",
       "        0.  +0.j   , 0.  +0.j   , 0.48+0.j   , 0.  +0.j   , 0.  +0.j   ,\n",
       "        0.  +0.j   ],\n",
       "       [0.  +0.j   , 0.  +0.j   , 0.  +0.j   , 0.  +0.j   , 0.  +0.j   ,\n",
       "        0.  +0.j   , 0.  +0.j   , 0.  +0.j   , 0.  +0.j   , 0.  +0.j   ,\n",
       "        0.  +0.j   , 0.  +0.j   , 0.  +0.j   , 0.  +0.j   , 0.  +0.j   ,\n",
       "        0.  +0.j   ],\n",
       "       [0.  +0.j   , 0.  +0.j   , 0.  +0.j   , 0.  +0.j   , 0.  +0.j   ,\n",
       "        0.  +0.j   , 0.  +0.j   , 0.  +0.j   , 0.  +0.j   , 0.  +0.j   ,\n",
       "        0.  +0.j   , 0.  +0.j   , 0.  +0.j   , 0.  +0.j   , 0.  +0.j   ,\n",
       "        0.  +0.j   ],\n",
       "       [0.  +0.j   , 0.  +0.j   , 0.  +0.j   , 0.  +0.j   , 0.  +0.j   ,\n",
       "        0.  +0.j   , 0.  +0.j   , 0.  +0.j   , 0.  +0.j   , 0.  +0.j   ,\n",
       "        0.  +0.j   , 0.  +0.j   , 0.  +0.j   , 0.  +0.j   , 0.  +0.j   ,\n",
       "        0.  +0.j   ]])"
      ]
     },
     "execution_count": 53,
     "metadata": {},
     "output_type": "execute_result"
    }
   ],
   "source": [
    "# Native SWAP\n",
    "def U(t):\n",
    "    return scipy.linalg.expm(-1j*t*swap_2)\n",
    "np.round(U(t) @ np.kron(rho_0,rho_plus) @ dagger (U(t)),3)"
   ]
  },
  {
   "cell_type": "code",
   "execution_count": 54,
   "metadata": {},
   "outputs": [],
   "source": [
    "II = np.kron(I,I)\n",
    "IX = np.kron(I,X)\n",
    "def qme(state,u):\n",
    "    gate = choice([II,IX])\n",
    "    return gate @ u @ state @ dagger(u) @ dagger(gate)"
   ]
  },
  {
   "cell_type": "code",
   "execution_count": 55,
   "metadata": {},
   "outputs": [],
   "source": [
    "num_tomo = 100\n",
    "num_muq = 100\n",
    "from matplotlib import cm\n",
    "color = cm.rainbow(np.linspace(1, 0, num_muq))\n",
    "\n"
   ]
  },
  {
   "cell_type": "code",
   "execution_count": 56,
   "metadata": {},
   "outputs": [],
   "source": [
    "dme_state = np.kron(rho_0,rho_plus)\n",
    "dme_W_states = []\n",
    "# Normal DME\n",
    "for muq in range(1,num_muq):\n",
    "    _t = t/muq\n",
    "    u = U(_t)\n",
    "    dme_state = np.kron(rho_0,rho_plus)\n",
    "    for i in range(muq):\n",
    "        dme_state = u @ dme_state @ dagger(u)\n",
    "        rho_W = ptrace(dme_state)\n",
    "        dme_state = np.kron(rho_W,rho_plus)\n",
    "    dme_W_states.append(rho_W)"
   ]
  },
  {
   "cell_type": "code",
   "execution_count": 57,
   "metadata": {},
   "outputs": [
    {
     "name": "stdout",
     "output_type": "stream",
     "text": [
      "[[0.5 +0.j    0.  +0.j    0.  +0.j    0.49-0.099j]\n",
      " [0.  +0.j    0.  +0.j    0.  +0.j    0.  +0.j   ]\n",
      " [0.  +0.j    0.  +0.j    0.  +0.j    0.  +0.j   ]\n",
      " [0.49+0.099j 0.  +0.j    0.  +0.j    0.5 +0.j   ]]\n"
     ]
    }
   ],
   "source": [
    "_U = U_rho(t,rho_plus)\n",
    "expected_state = _U @ rho_0 @ dagger(_U)\n",
    "print(np.round(expected_state,3))"
   ]
  },
  {
   "cell_type": "code",
   "execution_count": 58,
   "metadata": {},
   "outputs": [],
   "source": [
    "norm_dme = [np.linalg.norm(expected_state-state) for state in dme_W_states]"
   ]
  },
  {
   "cell_type": "code",
   "execution_count": 59,
   "metadata": {},
   "outputs": [],
   "source": [
    "%matplotlib inline\n",
    "import matplotlib.pyplot as plt\n",
    "plt.rcParams.update({\n",
    "    \"figure.figsize\": (10, 6),\n",
    "    \"text.usetex\": True, # Remove this line if your code doesn't run/ take too long\n",
    "    \"font.family\": \"serif\",\n",
    "    \"figure.dpi\": 100,\n",
    "    \"font.size\": 14\n",
    "})"
   ]
  },
  {
   "cell_type": "code",
   "execution_count": 60,
   "metadata": {},
   "outputs": [
    {
     "data": {
      "text/plain": [
       "<matplotlib.legend.Legend at 0x2d10099c650>"
      ]
     },
     "execution_count": 60,
     "metadata": {},
     "output_type": "execute_result"
    },
    {
     "data": {
      "image/png": "[encoded data removed]",
      "text/plain": [
       "<Figure size 1000x600 with 1 Axes>"
      ]
     },
     "metadata": {},
     "output_type": "display_data"
    }
   ],
   "source": [
    "plt.plot(range(1,num_muq),norm_dme,marker='o',markerfacecolor='none',alpha=0.8,label=f'Sequential, final norm = {float('%.3g' % norm_dme[-1])}')\n",
    "plt.xlabel('MUQs')\n",
    "plt.ylabel(r'Norm $|| \\rho_W - \\rho_{expected} ||$')\n",
    "plt.grid()\n",
    "plt.title(r'2 qubit reg DME with $\\rho_M = |\\Phi^+ \\rangle = \\frac{1}{\\sqrt{2}}(|00\\rangle + |11\\rangle)$, '+f'{num_muq} MUQs, t = {t}')\n",
    "plt.legend()"
   ]
  },
  {
   "cell_type": "code",
   "execution_count": 61,
   "metadata": {},
   "outputs": [],
   "source": [
    "from qibo import *\n",
    "from qibo.transpiler.unitary_decompositions import two_qubit_decomposition"
   ]
  },
  {
   "cell_type": "code",
   "execution_count": 65,
   "metadata": {},
   "outputs": [
    {
     "name": "stdout",
     "output_type": "stream",
     "text": [
      "Number of muq = 1\n",
      "Current muq = 1\n",
      "Number of muq = 2\n",
      "Current muq = 1\n",
      "Current muq = 2\n",
      "Number of muq = 3\n",
      "Current muq = 1\n",
      "Current muq = 2\n",
      "Current muq = 3\n",
      "Number of muq = 4\n",
      "Current muq = 1\n",
      "Current muq = 2\n",
      "Current muq = 3\n",
      "Current muq = 4\n"
     ]
    }
   ],
   "source": [
    "\n",
    "n = 2\n",
    "M = 4\n",
    "t = 0.2\n",
    "\n",
    "qibo_states = []\n",
    "for muq in range(1,M+1):\n",
    "    \n",
    "    print(f'Number of muq = {muq}')\n",
    "    delta = t/muq\n",
    "    c = Circuit((muq+1) * n,density_matrix=True)\n",
    "    # initializationn\n",
    "    c.add(gates.H(0))\n",
    "    c.add(gates.CNOT(0,1))  \n",
    "    for _i in range(n,(muq+1)*n,n):\n",
    "        print(f'Current muq = {int(_i/n)}')\n",
    "        \n",
    "        # find the swap\n",
    "        delta_swap = scipy.linalg.expm(-1j* gates.SWAP(0,1).matrix()* delta)\n",
    "\n",
    "        # swap each qubit in work with instruction ie 0 with n, 1 with n+1\n",
    "        for qubit in range(n):\n",
    "            for decomposed_gate in two_qubit_decomposition(\n",
    "                qubit,_i+qubit,unitary=delta_swap):\n",
    "                c.add(decomposed_gate)\n",
    "    \n",
    "    for qubit in range(n):\n",
    "        c.add(gates.X(qubit))\n",
    "        c.add(gates.S(qubit))\n",
    "        c.add(gates.X(qubit))\n",
    "    c.execute()\n",
    "    current_state = ptrace(c.final_state.state(),n1=4,n2=4**muq)\n",
    "    qibo_states.append(current_state) "
   ]
  },
  {
   "cell_type": "code",
   "execution_count": 67,
   "metadata": {},
   "outputs": [],
   "source": [
    "norm_qibo = [np.linalg.norm(expected_state-state) for state in qibo_states]"
   ]
  },
  {
   "cell_type": "code",
   "execution_count": 68,
   "metadata": {},
   "outputs": [
    {
     "data": {
      "text/plain": [
       "<matplotlib.legend.Legend at 0x2d100a11fd0>"
      ]
     },
     "execution_count": 68,
     "metadata": {},
     "output_type": "execute_result"
    },
    {
     "data": {
      "image/png": "[encoded data removed]",
      "text/plain": [
       "<Figure size 1000x600 with 1 Axes>"
      ]
     },
     "metadata": {},
     "output_type": "display_data"
    }
   ],
   "source": [
    "plt.plot(range(n,M+n),norm_qibo,marker='x',alpha=0.8,label=f'qibo, final norm = {float('%.3g' % norm_qibo[-1])}')\n",
    "plt.plot(range(1,num_muq),norm_dme,marker='o',markerfacecolor='none',alpha=0.8,label=f'Sequential, final norm = {float('%.3g' % norm_dme[-1])}')\n",
    "plt.xlabel('MUQs')\n",
    "plt.ylabel(r'Norm $|| \\rho_W - \\rho_{expected} ||$')\n",
    "plt.grid()\n",
    "plt.title(r'DME with $\\rho_M = |+\\rangle \\langle +|$, '+f'{num_muq} MUQs, t = {t}')\n",
    "plt.legend()"
   ]
  },
  {
   "cell_type": "code",
   "execution_count": 69,
   "metadata": {},
   "outputs": [
    {
     "data": {
      "text/plain": [
       "array([0.70710678+0.j, 0.        +0.j, 0.        +0.j, 0.70710678+0.j])"
      ]
     },
     "execution_count": 69,
     "metadata": {},
     "output_type": "execute_result"
    }
   ],
   "source": [
    "c = Circuit(2)\n",
    "c.add(gates.H(0))\n",
    "c.add(gates.CNOT(0,1))\n",
    "c.execute()\n",
    "c.final_state.state()"
   ]
  },
  {
   "cell_type": "code",
   "execution_count": 115,
   "metadata": {},
   "outputs": [
    {
     "name": "stdout",
     "output_type": "stream",
     "text": [
      "[[ 0.98-0.199j  0.  +0.j     0.  +0.j     0.  +0.j     0.  +0.j\n",
      "   0.  +0.j     0.  +0.j     0.  +0.j     0.  +0.j     0.  +0.j\n",
      "   0.  +0.j     0.  +0.j     0.  +0.j     0.  +0.j     0.  +0.j\n",
      "   0.  +0.j   ]\n",
      " [ 0.  +0.j     0.98+0.j     0.  +0.j     0.  +0.j     0.  -0.199j\n",
      "   0.  +0.j     0.  +0.j     0.  +0.j     0.  +0.j     0.  +0.j\n",
      "   0.  +0.j     0.  +0.j     0.  +0.j     0.  +0.j     0.  +0.j\n",
      "   0.  +0.j   ]\n",
      " [ 0.  +0.j     0.  +0.j     0.98+0.j     0.  +0.j     0.  +0.j\n",
      "   0.  +0.j     0.  +0.j     0.  +0.j     0.  -0.199j  0.  +0.j\n",
      "   0.  +0.j     0.  +0.j    -0.  +0.j     0.  +0.j     0.  +0.j\n",
      "   0.  +0.j   ]\n",
      " [-0.  +0.j    -0.  +0.j    -0.  +0.j     0.98+0.j    -0.  +0.j\n",
      "  -0.  +0.j    -0.  +0.j    -0.  +0.j    -0.  +0.j    -0.  +0.j\n",
      "  -0.  +0.j    -0.  +0.j     0.  -0.199j -0.  +0.j    -0.  +0.j\n",
      "  -0.  +0.j   ]\n",
      " [ 0.  +0.j     0.  -0.199j  0.  +0.j     0.  +0.j     0.98+0.j\n",
      "   0.  +0.j     0.  +0.j     0.  +0.j     0.  +0.j     0.  +0.j\n",
      "   0.  +0.j     0.  +0.j     0.  +0.j     0.  +0.j     0.  +0.j\n",
      "   0.  +0.j   ]\n",
      " [ 0.  +0.j     0.  +0.j     0.  +0.j     0.  +0.j     0.  +0.j\n",
      "   0.98-0.199j  0.  +0.j     0.  +0.j     0.  +0.j     0.  +0.j\n",
      "   0.  +0.j     0.  +0.j     0.  +0.j     0.  +0.j     0.  +0.j\n",
      "   0.  +0.j   ]\n",
      " [ 0.  +0.j     0.  +0.j     0.  +0.j     0.  +0.j     0.  +0.j\n",
      "   0.  +0.j     0.98+0.j     0.  +0.j     0.  +0.j     0.  -0.199j\n",
      "   0.  +0.j     0.  +0.j     0.  +0.j    -0.  +0.j     0.  +0.j\n",
      "   0.  +0.j   ]\n",
      " [-0.  +0.j    -0.  +0.j    -0.  +0.j    -0.  +0.j    -0.  +0.j\n",
      "  -0.  +0.j    -0.  +0.j     0.98+0.j    -0.  +0.j    -0.  +0.j\n",
      "  -0.  +0.j    -0.  +0.j    -0.  +0.j     0.  -0.199j -0.  +0.j\n",
      "  -0.  +0.j   ]\n",
      " [ 0.  +0.j     0.  +0.j     0.  -0.199j  0.  +0.j     0.  +0.j\n",
      "   0.  +0.j     0.  +0.j     0.  +0.j     0.98+0.j     0.  +0.j\n",
      "  -0.  +0.j     0.  +0.j     0.  +0.j     0.  +0.j    -0.  +0.j\n",
      "   0.  +0.j   ]\n",
      " [ 0.  +0.j     0.  +0.j     0.  +0.j     0.  +0.j     0.  +0.j\n",
      "   0.  +0.j     0.  -0.199j  0.  +0.j     0.  +0.j     0.98+0.j\n",
      "  -0.  +0.j     0.  +0.j     0.  +0.j     0.  +0.j    -0.  +0.j\n",
      "   0.  +0.j   ]\n",
      " [ 0.  +0.j     0.  +0.j     0.  +0.j     0.  +0.j     0.  +0.j\n",
      "   0.  +0.j     0.  +0.j     0.  +0.j     0.  +0.j     0.  +0.j\n",
      "   0.98-0.199j  0.  +0.j     0.  +0.j     0.  +0.j    -0.  +0.j\n",
      "   0.  +0.j   ]\n",
      " [-0.  +0.j    -0.  +0.j    -0.  +0.j    -0.  +0.j    -0.  +0.j\n",
      "  -0.  +0.j    -0.  +0.j    -0.  +0.j    -0.  +0.j    -0.  +0.j\n",
      "  -0.  +0.j     0.98+0.j    -0.  +0.j    -0.  +0.j     0.  -0.199j\n",
      "  -0.  +0.j   ]\n",
      " [ 0.  +0.j     0.  +0.j     0.  +0.j     0.  -0.199j  0.  +0.j\n",
      "   0.  +0.j     0.  +0.j     0.  +0.j     0.  +0.j     0.  +0.j\n",
      "   0.  +0.j     0.  +0.j     0.98+0.j     0.  +0.j     0.  +0.j\n",
      "   0.  +0.j   ]\n",
      " [ 0.  +0.j     0.  +0.j     0.  +0.j     0.  +0.j     0.  +0.j\n",
      "   0.  +0.j     0.  +0.j     0.  -0.199j  0.  +0.j     0.  +0.j\n",
      "   0.  +0.j     0.  +0.j     0.  +0.j     0.98+0.j     0.  +0.j\n",
      "   0.  +0.j   ]\n",
      " [ 0.  +0.j     0.  +0.j     0.  +0.j     0.  +0.j     0.  +0.j\n",
      "   0.  +0.j     0.  +0.j     0.  +0.j     0.  +0.j     0.  +0.j\n",
      "   0.  +0.j     0.  -0.199j  0.  +0.j     0.  +0.j     0.98+0.j\n",
      "   0.  +0.j   ]\n",
      " [ 0.  +0.j     0.  +0.j     0.  +0.j     0.  +0.j     0.  +0.j\n",
      "   0.  +0.j     0.  +0.j     0.  +0.j     0.  +0.j     0.  +0.j\n",
      "   0.  +0.j     0.  +0.j     0.  +0.j     0.  +0.j     0.  +0.j\n",
      "   0.98-0.199j]]\n"
     ]
    }
   ],
   "source": [
    "t = 0.2\n",
    "# Native SWAP\n",
    "def U(t):\n",
    "    return scipy.linalg.expm(-1j*t*swap_2)\n",
    "\n",
    "dme_state = np.kron(rho_0,rho_plus)\n",
    "# Normal DME\n",
    "muq = 1\n",
    "_t = t/muq\n",
    "u = U(_t)\n",
    "print(np.round(u,3))\n",
    "dme_state = np.kron(rho_0,rho_plus)\n",
    "for i in range(muq):\n",
    "    dme_state = u @ dme_state @ dagger(u)\n",
    "    rho_W = ptrace(dme_state)\n",
    "    dme_state = np.kron(rho_W,rho_plus)\n",
    "# print(np.round(rho_W,3))"
   ]
  },
  {
   "cell_type": "code",
   "execution_count": 112,
   "metadata": {},
   "outputs": [
    {
     "name": "stdout",
     "output_type": "stream",
     "text": [
      "Current muq = 1\n",
      "[[0.98-0.199j 0.  +0.j    0.  +0.j    0.  +0.j   ]\n",
      " [0.  +0.j    0.98+0.j    0.  -0.199j 0.  +0.j   ]\n",
      " [0.  +0.j    0.  -0.199j 0.98+0.j    0.  +0.j   ]\n",
      " [0.  +0.j    0.  +0.j    0.  +0.j    0.98-0.199j]]\n",
      "[[0.501+0.j    0.   +0.j    0.   +0.j    0.442-0.187j]\n",
      " [0.   +0.j    0.019+0.j    0.   +0.j    0.   +0.j   ]\n",
      " [0.   +0.j    0.   -0.j    0.019+0.j    0.   +0.j   ]\n",
      " [0.442+0.187j 0.   +0.j    0.   +0.j    0.461-0.j   ]]\n"
     ]
    }
   ],
   "source": [
    "n = 2\n",
    "t = 0.2\n",
    "delta = 0.2\n",
    "c = Circuit(4,density_matrix=True)\n",
    "# initializationn\n",
    "c.add(gates.H(0))\n",
    "c.add(gates.CNOT(0,1)) \n",
    "\n",
    "for _i in range(2,4,2):\n",
    "    print(f'Current muq = {int(_i/n)}')\n",
    "\n",
    "    # find the swap\n",
    "    delta_swap = scipy.linalg.expm(-1j* gates.SWAP(0,1).matrix()* delta)\n",
    "    print(np.round(delta_swap,3))\n",
    "\n",
    "    # swap each qubit in work with instruction ie 0 with n, 1 with n+1\n",
    "    for decomposed_gate in two_qubit_decomposition(\n",
    "        0,2,unitary=delta_swap):\n",
    "        c.add(decomposed_gate)\n",
    "\n",
    "    for decomposed_gate in two_qubit_decomposition(\n",
    "        1,3,unitary=delta_swap):\n",
    "        c.add(decomposed_gate)\n",
    "            \n",
    "c.execute()\n",
    "current_state = ptrace(c.final_state.state(),n1=4,n2=4)\n",
    "print(np.round(current_state,3))"
   ]
  },
  {
   "cell_type": "code",
   "execution_count": 113,
   "metadata": {},
   "outputs": [
    {
     "name": "stdout",
     "output_type": "stream",
     "text": [
      "[[ 0.651-0.275j  0.   +0.j     0.   +0.j    -0.   -0.j     0.   +0.j\n",
      "  -0.   -0.j    -0.   -0.j     0.   +0.j     0.651-0.275j  0.   +0.j\n",
      "   0.   +0.j     0.   +0.j     0.   +0.j    -0.   -0.j     0.   +0.j\n",
      "   0.   +0.j   ]\n",
      " [ 0.   +0.j     0.679-0.138j -0.   -0.j     0.   +0.j    -0.028-0.138j\n",
      "   0.   +0.j     0.   +0.j     0.   -0.j     0.   +0.j     0.679-0.138j\n",
      "   0.   +0.j     0.   +0.j    -0.028-0.138j  0.   +0.j     0.   +0.j\n",
      "  -0.   +0.j   ]\n",
      " [ 0.   +0.j    -0.   +0.j     0.679-0.138j  0.   +0.j    -0.028-0.138j\n",
      "   0.   +0.j     0.   +0.j    -0.   -0.j     0.   +0.j     0.   -0.j\n",
      "   0.679-0.138j  0.   +0.j     0.028+0.138j  0.   +0.j     0.   +0.j\n",
      "  -0.   -0.j   ]\n",
      " [-0.028+0.j     0.   +0.j     0.   +0.j     0.679+0.j     0.   +0.j\n",
      "  -0.   -0.138j  0.   -0.138j  0.   +0.j     0.028+0.j     0.   +0.j\n",
      "   0.   +0.j     0.679+0.j     0.   +0.j     0.   +0.138j  0.   -0.138j\n",
      "   0.   +0.j   ]\n",
      " [ 0.   +0.j    -0.028-0.138j  0.   -0.j     0.   +0.j     0.679-0.138j\n",
      "   0.   +0.j     0.   +0.j    -0.   -0.j     0.   +0.j    -0.028-0.138j\n",
      "  -0.   +0.j     0.   +0.j     0.679-0.138j  0.   +0.j     0.   +0.j\n",
      "   0.   +0.j   ]\n",
      " [-0.   -0.j     0.   +0.j     0.   +0.j    -0.   -0.j     0.   +0.j\n",
      "   0.651-0.275j -0.   -0.j     0.   +0.j    -0.   -0.j     0.   +0.j\n",
      "   0.   +0.j     0.   +0.j     0.   +0.j     0.651-0.275j  0.   +0.j\n",
      "   0.   +0.j   ]\n",
      " [-0.   -0.138j  0.   +0.j     0.   +0.j     0.   -0.138j  0.   +0.j\n",
      "  -0.028+0.j     0.679+0.j     0.   +0.j     0.   +0.138j  0.   +0.j\n",
      "   0.   +0.j     0.   -0.138j  0.   +0.j     0.028-0.j     0.679+0.j\n",
      "   0.   +0.j   ]\n",
      " [ 0.   +0.j    -0.028-0.138j -0.   -0.j     0.   +0.j    -0.   +0.j\n",
      "   0.   +0.j     0.   +0.j     0.679-0.138j  0.   +0.j     0.028+0.138j\n",
      "  -0.   -0.j     0.   +0.j     0.   -0.j     0.   +0.j     0.   +0.j\n",
      "   0.679-0.138j]\n",
      " [ 0.   +0.j    -0.   -0.j    -0.028-0.138j  0.   +0.j     0.679-0.138j\n",
      "   0.   +0.j     0.   +0.j    -0.   +0.j     0.   +0.j     0.   +0.j\n",
      "  -0.028-0.138j  0.   +0.j    -0.679+0.138j  0.   +0.j     0.   +0.j\n",
      "  -0.   +0.j   ]\n",
      " [ 0.   -0.138j  0.   +0.j     0.   +0.j    -0.   -0.138j  0.   +0.j\n",
      "   0.679-0.j    -0.028-0.j     0.   +0.j     0.   +0.138j  0.   +0.j\n",
      "   0.   +0.j    -0.   -0.138j  0.   +0.j    -0.679+0.j    -0.028-0.j\n",
      "   0.   +0.j   ]\n",
      " [-0.   -0.j     0.   +0.j     0.   +0.j    -0.   -0.j     0.   +0.j\n",
      "  -0.   -0.j     0.651-0.275j  0.   +0.j    -0.   -0.j     0.   +0.j\n",
      "   0.   +0.j     0.   +0.j     0.   +0.j    -0.   -0.j    -0.651+0.275j\n",
      "   0.   +0.j   ]\n",
      " [ 0.   +0.j     0.   -0.j    -0.028-0.138j  0.   +0.j    -0.   -0.j\n",
      "   0.   +0.j     0.   +0.j     0.679-0.138j  0.   +0.j     0.   -0.j\n",
      "   0.028+0.138j  0.   +0.j    -0.   -0.j     0.   +0.j     0.   +0.j\n",
      "  -0.679+0.138j]\n",
      " [ 0.679-0.j     0.   +0.j     0.   +0.j    -0.028-0.j     0.   +0.j\n",
      "  -0.   -0.138j -0.   -0.138j  0.   +0.j    -0.679+0.j     0.   +0.j\n",
      "   0.   +0.j    -0.028-0.j     0.   +0.j     0.   +0.138j -0.   -0.138j\n",
      "   0.   +0.j   ]\n",
      " [ 0.   +0.j     0.679-0.138j -0.   +0.j     0.   +0.j    -0.   -0.j\n",
      "   0.   +0.j     0.   +0.j    -0.028-0.138j  0.   +0.j    -0.679+0.138j\n",
      "  -0.   +0.j     0.   +0.j     0.   +0.j     0.   +0.j     0.   +0.j\n",
      "  -0.028-0.138j]\n",
      " [ 0.   +0.j    -0.   -0.j     0.679-0.138j  0.   +0.j     0.   -0.j\n",
      "   0.   +0.j     0.   +0.j    -0.028-0.138j  0.   +0.j    -0.   -0.j\n",
      "  -0.679+0.138j  0.   +0.j     0.   -0.j     0.   +0.j     0.   +0.j\n",
      "   0.028+0.138j]\n",
      " [-0.   -0.j     0.   +0.j     0.   +0.j     0.651-0.275j  0.   +0.j\n",
      "  -0.   -0.j    -0.   -0.j     0.   +0.j    -0.   -0.j     0.   +0.j\n",
      "   0.   +0.j    -0.651+0.275j  0.   +0.j    -0.   -0.j     0.   +0.j\n",
      "   0.   +0.j   ]]\n"
     ]
    }
   ],
   "source": [
    "print(np.round(c.unitary(),3))"
   ]
  },
  {
   "cell_type": "code",
   "execution_count": 80,
   "metadata": {},
   "outputs": [
    {
     "data": {
      "text/plain": [
       "4"
      ]
     },
     "execution_count": 80,
     "metadata": {},
     "output_type": "execute_result"
    }
   ],
   "source": [
    "(muq+1) * n"
   ]
  },
  {
   "cell_type": "code",
   "execution_count": 120,
   "metadata": {},
   "outputs": [
    {
     "data": {
      "text/plain": [
       "array([[1, 0, 0, 0, 0, 0, 0, 0, 0, 0, 0, 0, 0, 0, 0, 0],\n",
       "       [0, 0, 0, 0, 1, 0, 0, 0, 0, 0, 0, 0, 0, 0, 0, 0],\n",
       "       [0, 0, 0, 0, 0, 0, 0, 0, 1, 0, 0, 0, 0, 0, 0, 0],\n",
       "       [0, 0, 0, 0, 0, 0, 0, 0, 0, 0, 0, 0, 1, 0, 0, 0],\n",
       "       [0, 1, 0, 0, 0, 0, 0, 0, 0, 0, 0, 0, 0, 0, 0, 0],\n",
       "       [0, 0, 0, 0, 0, 1, 0, 0, 0, 0, 0, 0, 0, 0, 0, 0],\n",
       "       [0, 0, 0, 0, 0, 0, 0, 0, 0, 1, 0, 0, 0, 0, 0, 0],\n",
       "       [0, 0, 0, 0, 0, 0, 0, 0, 0, 0, 0, 0, 0, 1, 0, 0],\n",
       "       [0, 0, 1, 0, 0, 0, 0, 0, 0, 0, 0, 0, 0, 0, 0, 0],\n",
       "       [0, 0, 0, 0, 0, 0, 1, 0, 0, 0, 0, 0, 0, 0, 0, 0],\n",
       "       [0, 0, 0, 0, 0, 0, 0, 0, 0, 0, 1, 0, 0, 0, 0, 0],\n",
       "       [0, 0, 0, 0, 0, 0, 0, 0, 0, 0, 0, 0, 0, 0, 1, 0],\n",
       "       [0, 0, 0, 1, 0, 0, 0, 0, 0, 0, 0, 0, 0, 0, 0, 0],\n",
       "       [0, 0, 0, 0, 0, 0, 0, 1, 0, 0, 0, 0, 0, 0, 0, 0],\n",
       "       [0, 0, 0, 0, 0, 0, 0, 0, 0, 0, 0, 1, 0, 0, 0, 0],\n",
       "       [0, 0, 0, 0, 0, 0, 0, 0, 0, 0, 0, 0, 0, 0, 0, 1]])"
      ]
     },
     "execution_count": 120,
     "metadata": {},
     "output_type": "execute_result"
    }
   ],
   "source": [
    "swap_2"
   ]
  },
  {
   "cell_type": "code",
   "execution_count": 119,
   "metadata": {},
   "outputs": [
    {
     "data": {
      "text/plain": [
       "array([[-0.839+0.544j,  0.   +0.j   ,  0.   +0.j   ,  0.   +0.j   ,\n",
       "         0.   +0.j   ,  0.   +0.j   ,  0.   +0.j   ,  0.   +0.j   ,\n",
       "         0.   +0.j   ,  0.   +0.j   ,  0.   +0.j   ,  0.   +0.j   ,\n",
       "         0.   +0.j   ,  0.   +0.j   ,  0.   +0.j   ,  0.   +0.j   ],\n",
       "       [ 0.   +0.j   , -0.839+0.j   ,  0.   +0.j   ,  0.   +0.j   ,\n",
       "         0.   +0.544j,  0.   +0.j   ,  0.   +0.j   ,  0.   +0.j   ,\n",
       "         0.   +0.j   ,  0.   +0.j   ,  0.   +0.j   ,  0.   +0.j   ,\n",
       "         0.   +0.j   ,  0.   +0.j   ,  0.   +0.j   ,  0.   +0.j   ],\n",
       "       [ 0.   +0.j   ,  0.   +0.j   , -0.839+0.j   ,  0.   +0.j   ,\n",
       "         0.   +0.j   ,  0.   +0.j   ,  0.   +0.j   ,  0.   +0.j   ,\n",
       "         0.   +0.544j,  0.   +0.j   ,  0.   +0.j   ,  0.   +0.j   ,\n",
       "         0.   +0.j   ,  0.   +0.j   ,  0.   +0.j   ,  0.   +0.j   ],\n",
       "       [ 0.   +0.j   ,  0.   +0.j   ,  0.   +0.j   , -0.839+0.j   ,\n",
       "         0.   +0.j   ,  0.   +0.j   ,  0.   +0.j   ,  0.   +0.j   ,\n",
       "         0.   +0.j   ,  0.   +0.j   ,  0.   +0.j   ,  0.   +0.j   ,\n",
       "         0.   +0.544j,  0.   +0.j   ,  0.   +0.j   ,  0.   +0.j   ],\n",
       "       [ 0.   +0.j   ,  0.   +0.544j,  0.   +0.j   ,  0.   +0.j   ,\n",
       "        -0.839+0.j   ,  0.   +0.j   ,  0.   +0.j   ,  0.   +0.j   ,\n",
       "         0.   +0.j   ,  0.   +0.j   ,  0.   +0.j   ,  0.   +0.j   ,\n",
       "         0.   +0.j   ,  0.   +0.j   ,  0.   +0.j   ,  0.   +0.j   ],\n",
       "       [ 0.   +0.j   ,  0.   +0.j   ,  0.   +0.j   ,  0.   +0.j   ,\n",
       "         0.   +0.j   , -0.839+0.544j,  0.   +0.j   ,  0.   +0.j   ,\n",
       "         0.   +0.j   ,  0.   +0.j   ,  0.   +0.j   ,  0.   +0.j   ,\n",
       "         0.   +0.j   ,  0.   +0.j   ,  0.   +0.j   ,  0.   +0.j   ],\n",
       "       [ 0.   +0.j   ,  0.   +0.j   ,  0.   +0.j   ,  0.   +0.j   ,\n",
       "         0.   +0.j   ,  0.   +0.j   , -0.839+0.j   ,  0.   +0.j   ,\n",
       "         0.   +0.j   ,  0.   +0.544j,  0.   +0.j   ,  0.   +0.j   ,\n",
       "         0.   +0.j   ,  0.   +0.j   ,  0.   +0.j   ,  0.   +0.j   ],\n",
       "       [ 0.   +0.j   ,  0.   +0.j   ,  0.   +0.j   ,  0.   +0.j   ,\n",
       "         0.   +0.j   ,  0.   +0.j   ,  0.   +0.j   , -0.839+0.j   ,\n",
       "         0.   +0.j   ,  0.   +0.j   ,  0.   +0.j   ,  0.   +0.j   ,\n",
       "         0.   +0.j   ,  0.   +0.544j,  0.   +0.j   ,  0.   +0.j   ],\n",
       "       [ 0.   +0.j   ,  0.   +0.j   ,  0.   +0.544j,  0.   +0.j   ,\n",
       "         0.   +0.j   ,  0.   +0.j   ,  0.   +0.j   ,  0.   +0.j   ,\n",
       "        -0.839+0.j   ,  0.   +0.j   ,  0.   +0.j   ,  0.   +0.j   ,\n",
       "         0.   +0.j   ,  0.   +0.j   ,  0.   +0.j   ,  0.   +0.j   ],\n",
       "       [ 0.   +0.j   ,  0.   +0.j   ,  0.   +0.j   ,  0.   +0.j   ,\n",
       "         0.   +0.j   ,  0.   +0.j   ,  0.   +0.544j,  0.   +0.j   ,\n",
       "         0.   +0.j   , -0.839+0.j   ,  0.   +0.j   ,  0.   +0.j   ,\n",
       "         0.   +0.j   ,  0.   +0.j   ,  0.   +0.j   ,  0.   +0.j   ],\n",
       "       [ 0.   +0.j   ,  0.   +0.j   ,  0.   +0.j   ,  0.   +0.j   ,\n",
       "         0.   +0.j   ,  0.   +0.j   ,  0.   +0.j   ,  0.   +0.j   ,\n",
       "         0.   +0.j   ,  0.   +0.j   , -0.839+0.544j,  0.   +0.j   ,\n",
       "         0.   +0.j   ,  0.   +0.j   ,  0.   +0.j   ,  0.   +0.j   ],\n",
       "       [ 0.   +0.j   ,  0.   +0.j   ,  0.   +0.j   ,  0.   +0.j   ,\n",
       "         0.   +0.j   ,  0.   +0.j   ,  0.   +0.j   ,  0.   +0.j   ,\n",
       "         0.   +0.j   ,  0.   +0.j   ,  0.   +0.j   , -0.839+0.j   ,\n",
       "         0.   +0.j   ,  0.   +0.j   ,  0.   +0.544j,  0.   +0.j   ],\n",
       "       [ 0.   +0.j   ,  0.   +0.j   ,  0.   +0.j   ,  0.   +0.544j,\n",
       "         0.   +0.j   ,  0.   +0.j   ,  0.   +0.j   ,  0.   +0.j   ,\n",
       "         0.   +0.j   ,  0.   +0.j   ,  0.   +0.j   ,  0.   +0.j   ,\n",
       "        -0.839+0.j   ,  0.   +0.j   ,  0.   +0.j   ,  0.   +0.j   ],\n",
       "       [ 0.   +0.j   ,  0.   +0.j   ,  0.   +0.j   ,  0.   +0.j   ,\n",
       "         0.   +0.j   ,  0.   +0.j   ,  0.   +0.j   ,  0.   +0.544j,\n",
       "         0.   +0.j   ,  0.   +0.j   ,  0.   +0.j   ,  0.   +0.j   ,\n",
       "         0.   +0.j   , -0.839+0.j   ,  0.   +0.j   ,  0.   +0.j   ],\n",
       "       [ 0.   +0.j   ,  0.   +0.j   ,  0.   +0.j   ,  0.   +0.j   ,\n",
       "         0.   +0.j   ,  0.   +0.j   ,  0.   +0.j   ,  0.   +0.j   ,\n",
       "         0.   +0.j   ,  0.   +0.j   ,  0.   +0.j   ,  0.   +0.544j,\n",
       "         0.   +0.j   ,  0.   +0.j   , -0.839+0.j   ,  0.   +0.j   ],\n",
       "       [ 0.   +0.j   ,  0.   +0.j   ,  0.   +0.j   ,  0.   +0.j   ,\n",
       "         0.   +0.j   ,  0.   +0.j   ,  0.   +0.j   ,  0.   +0.j   ,\n",
       "         0.   +0.j   ,  0.   +0.j   ,  0.   +0.j   ,  0.   +0.j   ,\n",
       "         0.   +0.j   ,  0.   +0.j   ,  0.   +0.j   , -0.839+0.544j]])"
      ]
     },
     "execution_count": 119,
     "metadata": {},
     "output_type": "execute_result"
    }
   ],
   "source": [
    "np.round(scipy.linalg.expm(-1j* swap_2* delta),3)"
   ]
  },
  {
   "cell_type": "code",
   "execution_count": 121,
   "metadata": {},
   "outputs": [
    {
     "name": "stdout",
     "output_type": "stream",
     "text": [
      "[[-0.839+0.544j  0.   +0.j     0.   +0.j     0.   +0.j   ]\n",
      " [ 0.   +0.j    -0.839+0.j     0.   +0.544j  0.   +0.j   ]\n",
      " [ 0.   +0.j     0.   +0.544j -0.839+0.j     0.   +0.j   ]\n",
      " [ 0.   +0.j     0.   +0.j     0.   +0.j    -0.839+0.544j]]\n"
     ]
    }
   ],
   "source": [
    "delta = 10\n",
    "delta_swap = scipy.linalg.expm(-1j* gates.SWAP(0,1).matrix()* delta)\n",
    "print(np.round(delta_swap,3))\n"
   ]
  },
  {
   "cell_type": "code",
   "execution_count": 125,
   "metadata": {},
   "outputs": [
    {
     "name": "stdout",
     "output_type": "stream",
     "text": [
      "[[-0.839+0.544j  0.   +0.j     0.   +0.j     0.   +0.j     0.   +0.j\n",
      "   0.   +0.j     0.   +0.j     0.   +0.j     0.   +0.j     0.   +0.j\n",
      "   0.   +0.j     0.   +0.j     0.   +0.j     0.   +0.j     0.   +0.j\n",
      "   0.   +0.j   ]\n",
      " [ 0.   +0.j    -0.839-0.j     0.   +0.j     0.   +0.j    -0.   +0.544j\n",
      "   0.   +0.j     0.   +0.j     0.   +0.j     0.   +0.j     0.   +0.j\n",
      "   0.   +0.j     0.   +0.j     0.   +0.j     0.   +0.j     0.   +0.j\n",
      "   0.   +0.j   ]\n",
      " [ 0.   +0.j     0.   +0.j    -0.839+0.544j  0.   +0.j     0.   +0.j\n",
      "   0.   +0.j     0.   +0.j     0.   +0.j     0.   +0.j     0.   +0.j\n",
      "   0.   +0.j     0.   +0.j     0.   +0.j     0.   +0.j     0.   +0.j\n",
      "   0.   +0.j   ]\n",
      " [ 0.   +0.j     0.   +0.j     0.   +0.j    -0.839-0.j     0.   +0.j\n",
      "   0.   +0.j    -0.   +0.544j  0.   +0.j     0.   +0.j     0.   +0.j\n",
      "   0.   +0.j     0.   +0.j     0.   +0.j     0.   +0.j     0.   +0.j\n",
      "   0.   +0.j   ]\n",
      " [ 0.   +0.j     0.   +0.544j  0.   +0.j     0.   +0.j    -0.839+0.j\n",
      "   0.   +0.j     0.   +0.j     0.   +0.j     0.   +0.j     0.   +0.j\n",
      "   0.   +0.j     0.   +0.j     0.   +0.j     0.   +0.j     0.   +0.j\n",
      "   0.   +0.j   ]\n",
      " [ 0.   +0.j     0.   +0.j     0.   +0.j     0.   +0.j     0.   +0.j\n",
      "  -0.839+0.544j  0.   +0.j     0.   +0.j     0.   +0.j     0.   +0.j\n",
      "   0.   +0.j     0.   +0.j     0.   +0.j     0.   +0.j     0.   +0.j\n",
      "   0.   +0.j   ]\n",
      " [ 0.   +0.j     0.   +0.j     0.   +0.j     0.   +0.544j  0.   +0.j\n",
      "   0.   +0.j    -0.839+0.j     0.   +0.j     0.   +0.j     0.   +0.j\n",
      "   0.   +0.j     0.   +0.j     0.   +0.j     0.   +0.j     0.   +0.j\n",
      "   0.   +0.j   ]\n",
      " [ 0.   +0.j     0.   +0.j     0.   +0.j     0.   +0.j     0.   +0.j\n",
      "   0.   +0.j     0.   +0.j    -0.839+0.544j  0.   +0.j     0.   +0.j\n",
      "   0.   +0.j     0.   +0.j     0.   +0.j     0.   +0.j     0.   +0.j\n",
      "   0.   +0.j   ]\n",
      " [ 0.   +0.j     0.   +0.j     0.   +0.j     0.   +0.j     0.   +0.j\n",
      "   0.   +0.j     0.   +0.j     0.   +0.j    -0.839+0.544j  0.   +0.j\n",
      "   0.   +0.j     0.   +0.j     0.   +0.j     0.   +0.j     0.   +0.j\n",
      "   0.   +0.j   ]\n",
      " [ 0.   +0.j     0.   +0.j     0.   +0.j     0.   +0.j     0.   +0.j\n",
      "   0.   +0.j     0.   +0.j     0.   +0.j     0.   +0.j    -0.839-0.j\n",
      "   0.   +0.j     0.   +0.j    -0.   +0.544j  0.   +0.j     0.   +0.j\n",
      "   0.   +0.j   ]\n",
      " [ 0.   +0.j     0.   +0.j     0.   +0.j     0.   +0.j     0.   +0.j\n",
      "   0.   +0.j     0.   +0.j     0.   +0.j     0.   +0.j     0.   +0.j\n",
      "  -0.839+0.544j  0.   +0.j     0.   +0.j     0.   +0.j     0.   +0.j\n",
      "   0.   +0.j   ]\n",
      " [ 0.   +0.j     0.   +0.j     0.   +0.j     0.   +0.j     0.   +0.j\n",
      "   0.   +0.j     0.   +0.j     0.   +0.j     0.   +0.j     0.   +0.j\n",
      "   0.   +0.j    -0.839-0.j     0.   +0.j     0.   +0.j    -0.   +0.544j\n",
      "   0.   +0.j   ]\n",
      " [ 0.   +0.j     0.   +0.j     0.   +0.j     0.   +0.j     0.   +0.j\n",
      "   0.   +0.j     0.   +0.j     0.   +0.j     0.   +0.j     0.   +0.544j\n",
      "   0.   +0.j     0.   +0.j    -0.839+0.j     0.   +0.j     0.   +0.j\n",
      "   0.   +0.j   ]\n",
      " [ 0.   +0.j     0.   +0.j     0.   +0.j     0.   +0.j     0.   +0.j\n",
      "   0.   +0.j     0.   +0.j     0.   +0.j     0.   +0.j     0.   +0.j\n",
      "   0.   +0.j     0.   +0.j     0.   +0.j    -0.839+0.544j  0.   +0.j\n",
      "   0.   +0.j   ]\n",
      " [ 0.   +0.j     0.   +0.j     0.   +0.j     0.   +0.j     0.   +0.j\n",
      "   0.   +0.j     0.   +0.j     0.   +0.j     0.   +0.j     0.   +0.j\n",
      "   0.   +0.j     0.   +0.544j  0.   +0.j     0.   +0.j    -0.839+0.j\n",
      "   0.   +0.j   ]\n",
      " [ 0.   +0.j     0.   +0.j     0.   +0.j     0.   +0.j     0.   +0.j\n",
      "   0.   +0.j     0.   +0.j     0.   +0.j     0.   +0.j     0.   +0.j\n",
      "   0.   +0.j     0.   +0.j     0.   +0.j     0.   +0.j     0.   +0.j\n",
      "  -0.839+0.544j]]\n"
     ]
    }
   ],
   "source": [
    "c=Circuit(4,density_matrix=True)\n",
    "# for decomposed_gate in two_qubit_decomposition(\n",
    "#     0,2,unitary=delta_swap):\n",
    "#     c.add(decomposed_gate)\n",
    "for decomposed_gate in two_qubit_decomposition(\n",
    "    1,3,unitary=delta_swap):\n",
    "    c.add(decomposed_gate)\n",
    "print(np.round(c.unitary(),3))"
   ]
  },
  {
   "cell_type": "code",
   "execution_count": null,
   "metadata": {},
   "outputs": [],
   "source": []
  }
 ],
 "metadata": {
  "kernelspec": {
   "display_name": "Python 3",
   "language": "python",
   "name": "python3"
  },
  "language_info": {
   "codemirror_mode": {
    "name": "ipython",
    "version": 3
   },
   "file_extension": ".py",
   "mimetype": "text/x-python",
   "name": "python",
   "nbconvert_exporter": "python",
   "pygments_lexer": "ipython3",
   "version": "3.12.6"
  }
 },
 "nbformat": 4,
 "nbformat_minor": 2
}
