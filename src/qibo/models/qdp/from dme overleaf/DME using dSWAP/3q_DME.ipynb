{
 "cells": [
  {
   "cell_type": "code",
   "execution_count": 41,
   "metadata": {},
   "outputs": [],
   "source": [
    "import numpy as np\n",
    "import scipy\n",
    "\n",
    "def ptrace(matrix,index=1,n1=2,n2=2):\n",
    "    # Partial trace function for density matrices\n",
    "    current_tensor=matrix.reshape([n1, n2, n1, n2])\n",
    "    if index == 1:\n",
    "        return np.trace(current_tensor, axis1=1, axis2=3)\n",
    "    elif index == 2:\n",
    "        return np.trace(current_tensor, axis1=0, axis2=2)\n",
    "    else:\n",
    "        print('Error')\n",
    "\n",
    "def dagger(u):\n",
    "    return np.asarray(np.matrix(u).H)"
   ]
  },
  {
   "cell_type": "code",
   "execution_count": 42,
   "metadata": {},
   "outputs": [],
   "source": [
    "import numpy as np\n",
    "\n",
    "swap_q0_q2 = np.array([[1, 0, 0, 0, 0, 0, 0, 0],\n",
    "       [0, 0, 0, 0, 1, 0, 0, 0],\n",
    "       [0, 0, 1, 0, 0, 0, 0, 0],\n",
    "       [0, 0, 0, 0, 0, 0, 1, 0],\n",
    "       [0, 1, 0, 0, 0, 0, 0, 0],\n",
    "       [0, 0, 0, 0, 0, 1, 0, 0],\n",
    "       [0, 0, 0, 1, 0, 0, 0, 0],\n",
    "       [0, 0, 0, 0, 0, 0, 0, 1]])\n",
    "\n",
    "identity = np.array([[1, 0],\n",
    "                    [0, 1]])\n",
    "\n",
    "swap = np.array([[1, 0, 0, 0],\n",
    "            [0, 0, 1, 0],\n",
    "            [0, 1, 0, 0],\n",
    "            [0, 0, 0, 1]])\n",
    "\n",
    "swap_q0_q1 = np.kron(swap,identity)"
   ]
  },
  {
   "cell_type": "code",
   "execution_count": 43,
   "metadata": {},
   "outputs": [],
   "source": [
    "ket_plus = np.array([[1/np.sqrt(2)],[1/np.sqrt(2)]])\n",
    "density_matrix_plus = np.outer(ket_plus,ket_plus)\n",
    "\n",
    "ket_0 = np.array([[1],[0]])\n",
    "density_matrix_0 = np.outer(ket_0,ket_0)"
   ]
  },
  {
   "cell_type": "markdown",
   "metadata": {},
   "source": [
    "## $t=0.1\\pi$"
   ]
  },
  {
   "cell_type": "code",
   "execution_count": 44,
   "metadata": {},
   "outputs": [],
   "source": [
    "psi_A = np.kron(density_matrix_0,density_matrix_plus)\n",
    "psi_A = np.kron(psi_A,density_matrix_plus)\n",
    "\n",
    "t_01 = 0.1*np.pi\n",
    "U_A = scipy.linalg.expm(-1j*t_01*swap_q0_q1)\n",
    "U_B = scipy.linalg.expm(-1j*t_01*swap_q0_q2)"
   ]
  },
  {
   "cell_type": "code",
   "execution_count": 45,
   "metadata": {},
   "outputs": [],
   "source": [
    "psi_A3 = U_A @ psi_A @ dagger(U_A)\n",
    "#print('A3 qubit state tomography:')\n",
    "#print(np.round(psi_A3,3))"
   ]
  },
  {
   "cell_type": "code",
   "execution_count": 46,
   "metadata": {},
   "outputs": [
    {
     "name": "stdout",
     "output_type": "stream",
     "text": [
      "B3 qubit state tomography:\n",
      "[[ 0.25 -0.j     0.207-0.059j  0.226-0.073j  0.183-0.133j  0.067+0.133j\n",
      "   0.024+0.073j  0.043+0.059j  0.   +0.j   ]\n",
      " [ 0.207+0.059j  0.185-0.j     0.205-0.007j  0.183-0.066j  0.024+0.126j\n",
      "   0.002+0.066j  0.022+0.059j  0.   +0.j   ]\n",
      " [ 0.226+0.073j  0.205+0.007j  0.226+0.j     0.205-0.066j  0.022+0.14j\n",
      "  -0.   +0.073j  0.022+0.066j  0.   +0.j   ]\n",
      " [ 0.183+0.133j  0.183+0.066j  0.205+0.066j  0.205+0.j    -0.022+0.133j\n",
      "  -0.022+0.066j  0.   +0.066j  0.   +0.j   ]\n",
      " [ 0.067-0.133j  0.024-0.126j  0.022-0.14j  -0.022-0.133j  0.089-0.j\n",
      "   0.045+0.007j  0.043-0.007j  0.   +0.j   ]\n",
      " [ 0.024-0.073j  0.002-0.066j  0.   -0.073j -0.022-0.066j  0.045-0.007j\n",
      "   0.024+0.j     0.022-0.007j  0.   +0.j   ]\n",
      " [ 0.043-0.059j  0.022-0.059j  0.022-0.066j  0.   -0.066j  0.043+0.007j\n",
      "   0.022+0.007j  0.022+0.j     0.   +0.j   ]\n",
      " [ 0.   +0.j     0.   +0.j     0.   +0.j     0.   +0.j     0.   +0.j\n",
      "   0.   +0.j     0.   +0.j     0.   +0.j   ]]\n"
     ]
    },
    {
     "data": {
      "text/plain": [
       "array([[0.86588137-8.22647089e-18j, 0.09093219+2.65828378e-01j],\n",
       "       [0.09093219-2.65828378e-01j, 0.13411863-5.02215214e-19j]])"
      ]
     },
     "execution_count": 46,
     "metadata": {},
     "output_type": "execute_result"
    }
   ],
   "source": [
    "psi_B3 = U_B @ psi_A3 @ dagger(U_B)\n",
    "print('B3 qubit state tomography:')\n",
    "print(np.round(psi_B3,3))\n",
    "q_01 = ptrace(psi_B3,1,4,2)\n",
    "ptrace(q_01)"
   ]
  },
  {
   "cell_type": "markdown",
   "metadata": {},
   "source": [
    "## $t=\\pi/3$"
   ]
  },
  {
   "cell_type": "code",
   "execution_count": 47,
   "metadata": {},
   "outputs": [],
   "source": [
    "psi_A = np.kron(density_matrix_0,density_matrix_plus)\n",
    "psi_A = np.kron(psi_A,density_matrix_plus)\n",
    "\n",
    "t_01 = np.pi/3\n",
    "U_A = scipy.linalg.expm(-1j*t_01*swap_q0_q1)\n",
    "U_B = scipy.linalg.expm(-1j*t_01*swap_q0_q2)"
   ]
  },
  {
   "cell_type": "code",
   "execution_count": 48,
   "metadata": {},
   "outputs": [],
   "source": [
    "psi_A3 = U_A @ psi_A @ dagger(U_A)\n",
    "#print('A3 qubit state tomography:')\n",
    "#print(np.round(psi_A3,3))"
   ]
  },
  {
   "cell_type": "code",
   "execution_count": 49,
   "metadata": {},
   "outputs": [
    {
     "name": "stdout",
     "output_type": "stream",
     "text": [
      "B3 qubit state tomography:\n",
      "[[ 0.25 +0.j     0.156+0.054j  0.062-0.108j -0.031-0.054j  0.281+0.054j\n",
      "   0.187+0.108j  0.094-0.054j  0.   +0.j   ]\n",
      " [ 0.156-0.054j  0.109-0.j     0.016-0.081j -0.031-0.027j  0.187-0.027j\n",
      "   0.141+0.027j  0.047-0.054j  0.   +0.j   ]\n",
      " [ 0.062+0.108j  0.016+0.081j  0.062+0.j     0.016-0.027j  0.047+0.135j\n",
      "   0.   +0.108j  0.047+0.027j  0.   +0.j   ]\n",
      " [-0.031+0.054j -0.031+0.027j  0.016+0.027j  0.016+0.j    -0.047+0.054j\n",
      "  -0.047+0.027j  0.   +0.027j  0.   +0.j   ]\n",
      " [ 0.281-0.054j  0.187+0.027j  0.047-0.135j -0.047-0.054j  0.328-0.j\n",
      "   0.234+0.081j  0.094-0.081j  0.   +0.j   ]\n",
      " [ 0.187-0.108j  0.141-0.027j -0.   -0.108j -0.047-0.027j  0.234-0.081j\n",
      "   0.187+0.j     0.047-0.081j  0.   +0.j   ]\n",
      " [ 0.094+0.054j  0.047+0.054j  0.047-0.027j  0.   -0.027j  0.094+0.081j\n",
      "   0.047+0.081j  0.047+0.j     0.   +0.j   ]\n",
      " [ 0.   +0.j     0.   +0.j     0.   +0.j     0.   +0.j     0.   +0.j\n",
      "   0.   +0.j     0.   +0.j     0.   +0.j   ]]\n"
     ]
    },
    {
     "data": {
      "text/plain": [
       "array([[0.4375 -1.36108085e-18j, 0.46875+1.08253175e-01j],\n",
       "       [0.46875-1.08253175e-01j, 0.5625 -4.14998738e-18j]])"
      ]
     },
     "execution_count": 49,
     "metadata": {},
     "output_type": "execute_result"
    }
   ],
   "source": [
    "psi_B3 = U_B @ psi_A3 @ dagger(U_B)\n",
    "print('B3 qubit state tomography:')\n",
    "print(np.round(psi_B3,3))\n",
    "q_01 = ptrace(psi_B3,1,4,2)\n",
    "ptrace(q_01)"
   ]
  }
 ],
 "metadata": {
  "kernelspec": {
   "display_name": "Python 3",
   "language": "python",
   "name": "python3"
  },
  "language_info": {
   "codemirror_mode": {
    "name": "ipython",
    "version": 3
   },
   "file_extension": ".py",
   "mimetype": "text/x-python",
   "name": "python",
   "nbconvert_exporter": "python",
   "pygments_lexer": "ipython3",
   "version": "3.11.9"
  }
 },
 "nbformat": 4,
 "nbformat_minor": 2
}
