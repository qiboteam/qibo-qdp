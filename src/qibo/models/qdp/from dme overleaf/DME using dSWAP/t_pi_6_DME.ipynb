{
 "cells": [
  {
   "cell_type": "markdown",
   "metadata": {},
   "source": [
    "# ($t = \\pi/6$) Expected state after each step in DME using parameterized SWAP gate"
   ]
  },
  {
   "cell_type": "code",
   "execution_count": 1,
   "metadata": {},
   "outputs": [],
   "source": [
    "import numpy as np\n",
    "import scipy\n",
    "\n",
    "t = np.pi/6\n",
    "t_ZZ = t/2\n"
   ]
  },
  {
   "cell_type": "markdown",
   "metadata": {},
   "source": [
    "Define partial trace and Hermitian conjugate function"
   ]
  },
  {
   "cell_type": "code",
   "execution_count": 2,
   "metadata": {},
   "outputs": [],
   "source": [
    "\n",
    "def ptrace(matrix,index=1,n1=2,n2=2):\n",
    "    # Partial trace function for density matrices.\n",
    "    current_tensor=matrix.reshape([n1, n2, n1, n2])\n",
    "    if index == 1:\n",
    "        return np.trace(current_tensor, axis1=1, axis2=3)\n",
    "    elif index == 2:\n",
    "        return np.trace(current_tensor, axis1=0, axis2=2)\n",
    "    else:\n",
    "        print('Error')\n",
    "\n",
    "def dagger(u):\n",
    "    return np.asarray(np.matrix(u).H)"
   ]
  },
  {
   "cell_type": "markdown",
   "metadata": {},
   "source": [
    "Pauli matrices etc"
   ]
  },
  {
   "cell_type": "code",
   "execution_count": 3,
   "metadata": {},
   "outputs": [],
   "source": [
    "X = np.array([[0,1],\n",
    "              [1,0]])\n",
    "\n",
    "Y = np.array([[0,-1j],\n",
    "              [1j,0]])\n",
    "\n",
    "Z = np.array([[1,0],\n",
    "              [0,-1]])\n",
    "\n",
    "identity = np.array([[1,0],\n",
    "              [0,1]])\n",
    "\n",
    "swap = np.array([[1, 0, 0, 0],\n",
    "            [0, 0, 1, 0],\n",
    "            [0, 1, 0, 0],\n",
    "            [0, 0, 0, 1]])\n",
    "\n",
    "XX = np.kron(X,X)\n",
    "YY = np.kron(Y,Y)\n",
    "ZZ = np.kron(Z,Z)\n"
   ]
  },
  {
   "cell_type": "markdown",
   "metadata": {},
   "source": [
    "Define the qubit initial density matrices"
   ]
  },
  {
   "cell_type": "code",
   "execution_count": 4,
   "metadata": {},
   "outputs": [],
   "source": [
    "\n",
    "ket_plus = np.array([[1/np.sqrt(2)],[1/np.sqrt(2)]])\n",
    "rho_plus = np.outer(ket_plus,ket_plus)\n",
    "\n",
    "ket_0 = np.array([[1],[0]])\n",
    "rho_0 = np.outer(ket_0,ket_0)"
   ]
  },
  {
   "cell_type": "markdown",
   "metadata": {},
   "source": [
    "Define the unitaries"
   ]
  },
  {
   "cell_type": "code",
   "execution_count": 5,
   "metadata": {},
   "outputs": [
    {
     "data": {
      "text/plain": [
       "array([[ 0.5  +0.j   ,  0.375-0.217j,  0.125+0.217j,  0.   +0.j   ],\n",
       "       [ 0.375+0.217j,  0.375+0.j   , -0.   +0.217j,  0.   +0.j   ],\n",
       "       [ 0.125-0.217j, -0.   -0.217j,  0.125+0.j   ,  0.   +0.j   ],\n",
       "       [ 0.   +0.j   ,  0.   +0.j   ,  0.   +0.j   ,  0.   +0.j   ]])"
      ]
     },
     "execution_count": 5,
     "metadata": {},
     "output_type": "execute_result"
    }
   ],
   "source": [
    "# Parameterized SWAP\n",
    "U_ZZ = scipy.linalg.expm(-1j*t_ZZ*ZZ)\n",
    "U_YY = scipy.linalg.expm(-1j*t_ZZ*YY)\n",
    "U_XX = scipy.linalg.expm(-1j*t_ZZ*XX)\n",
    "\n",
    "U_XXZ = U_XX @ U_YY @ U_ZZ * np.exp(-1j * t_ZZ)\n",
    "np.round(U_XXZ @ np.kron(rho_0,rho_plus) @ dagger(U_XXZ),3)"
   ]
  },
  {
   "cell_type": "code",
   "execution_count": 6,
   "metadata": {},
   "outputs": [
    {
     "data": {
      "text/plain": [
       "array([[0.5  -0.j   , 0.375-0.217j, 0.125+0.217j, 0.   +0.j   ],\n",
       "       [0.375+0.217j, 0.375+0.j   , 0.   +0.217j, 0.   +0.j   ],\n",
       "       [0.125-0.217j, 0.   -0.217j, 0.125+0.j   , 0.   +0.j   ],\n",
       "       [0.   +0.j   , 0.   +0.j   , 0.   +0.j   , 0.   +0.j   ]])"
      ]
     },
     "execution_count": 6,
     "metadata": {},
     "output_type": "execute_result"
    }
   ],
   "source": [
    "# Native SWAP\n",
    "U = scipy.linalg.expm(-1j*t*swap)\n",
    "np.round(U @ np.kron(rho_0,rho_plus) @ dagger (U),3)"
   ]
  },
  {
   "cell_type": "code",
   "execution_count": 7,
   "metadata": {},
   "outputs": [
    {
     "data": {
      "text/plain": [
       "1.9547948663258415e-16"
      ]
     },
     "execution_count": 7,
     "metadata": {},
     "output_type": "execute_result"
    }
   ],
   "source": [
    "# Compare parameterized and native\n",
    "np.linalg.norm(U_XXZ-U)"
   ]
  },
  {
   "cell_type": "code",
   "execution_count": 8,
   "metadata": {},
   "outputs": [
    {
     "name": "stdout",
     "output_type": "stream",
     "text": [
      "Unitary for 1 step of dSWAP interaction:\n",
      "[[0.866-0.5j 0.   +0.j  0.   +0.j  0.   +0.j ]\n",
      " [0.   +0.j  0.866+0.j  0.   -0.5j 0.   +0.j ]\n",
      " [0.   +0.j  0.   -0.5j 0.866+0.j  0.   +0.j ]\n",
      " [0.   +0.j  0.   +0.j  0.   +0.j  0.866-0.5j]]\n"
     ]
    }
   ],
   "source": [
    "print(\"Unitary for 1 step of dSWAP interaction:\")\n",
    "print(np.round(U,3))"
   ]
  },
  {
   "cell_type": "markdown",
   "metadata": {},
   "source": [
    "## Iteration A"
   ]
  },
  {
   "cell_type": "code",
   "execution_count": 9,
   "metadata": {},
   "outputs": [],
   "source": [
    "# Parameterized SWAP\n",
    "rho_A = np.kron(rho_0,rho_plus)\n",
    "rho_A1 = U_ZZ @ rho_A @ dagger(U_ZZ)\n",
    "rho_A2 = U_YY @ rho_A1 @ dagger(U_YY)\n",
    "rho_A3 = U_XX @ rho_A2 @ dagger(U_XX)\n",
    "# Native SWAP\n",
    "rho_A3_swap = U @ rho_A @ dagger(U)"
   ]
  },
  {
   "cell_type": "code",
   "execution_count": 10,
   "metadata": {},
   "outputs": [
    {
     "name": "stdout",
     "output_type": "stream",
     "text": [
      "A initial q0 qubit state:\n",
      "[[1. 0.]\n",
      " [0. 0.]]\n",
      "A1 (after Z0Z1) q0 qubit state:\n",
      "[[1.+0.j 0.+0.j]\n",
      " [0.+0.j 0.+0.j]]\n",
      "A2 (after Y0Y1) q0 qubit state:\n",
      "[[0.933+0.j 0.125+0.j]\n",
      " [0.125+0.j 0.067+0.j]]\n",
      "A3 (after X0X1) q0 qubit state:\n",
      "[[0.875-0.j    0.125+0.217j]\n",
      " [0.125-0.217j 0.125+0.j   ]]\n",
      "---\n",
      "A3 (using native swap) q0 qubit state:\n",
      "[[0.875-0.j    0.125+0.217j]\n",
      " [0.125-0.217j 0.125+0.j   ]]\n"
     ]
    }
   ],
   "source": [
    "print('A initial q0 qubit state:')\n",
    "print(np.round(ptrace(rho_A),3))\n",
    "print('A1 (after Z0Z1) q0 qubit state:')\n",
    "print(np.round(ptrace(rho_A1),3))\n",
    "print('A2 (after Y0Y1) q0 qubit state:')\n",
    "print(np.round(ptrace(rho_A2),3))\n",
    "print('A3 (after X0X1) q0 qubit state:')\n",
    "print(np.round(ptrace(rho_A3),3))\n",
    "print('---')\n",
    "print('A3 (using native swap) q0 qubit state:')\n",
    "print(np.round(ptrace(rho_A3_swap),3))"
   ]
  },
  {
   "cell_type": "code",
   "execution_count": 11,
   "metadata": {},
   "outputs": [
    {
     "name": "stdout",
     "output_type": "stream",
     "text": [
      "A q0-q1 initial state:\n",
      "[[0.5 0.5 0.  0. ]\n",
      " [0.5 0.5 0.  0. ]\n",
      " [0.  0.  0.  0. ]\n",
      " [0.  0.  0.  0. ]]\n",
      "A3 q0-q1 2 qubit state using XXZ\n",
      "[[ 0.5  -0.j     0.375-0.217j  0.125+0.217j  0.   +0.j   ]\n",
      " [ 0.375+0.217j  0.375+0.j    -0.   +0.217j  0.   +0.j   ]\n",
      " [ 0.125-0.217j  0.   -0.217j  0.125+0.j    -0.   +0.j   ]\n",
      " [-0.   +0.j     0.   -0.j    -0.   +0.j     0.   +0.j   ]]\n",
      "A3 q0-q1 2 qubit state using swap\n",
      "[[0.5  -0.j    0.375-0.217j 0.125+0.217j 0.   +0.j   ]\n",
      " [0.375+0.217j 0.375+0.j    0.   +0.217j 0.   +0.j   ]\n",
      " [0.125-0.217j 0.   -0.217j 0.125+0.j    0.   +0.j   ]\n",
      " [0.   +0.j    0.   +0.j    0.   +0.j    0.   +0.j   ]]\n"
     ]
    }
   ],
   "source": [
    "print('A q0-q1 initial state:')\n",
    "print(np.round(rho_A,3))\n",
    "print('A3 q0-q1 2 qubit state using XXZ')\n",
    "print(np.round(rho_A3,3))\n",
    "print('A3 q0-q1 2 qubit state using swap')\n",
    "print(np.round(rho_A3_swap,3))"
   ]
  },
  {
   "cell_type": "code",
   "execution_count": 12,
   "metadata": {},
   "outputs": [
    {
     "data": {
      "text/plain": [
       "1.724283721331207e-16"
      ]
     },
     "execution_count": 12,
     "metadata": {},
     "output_type": "execute_result"
    }
   ],
   "source": [
    "# Compare parameterized and native\n",
    "np.linalg.norm(rho_A3_swap-rho_A3)"
   ]
  },
  {
   "cell_type": "markdown",
   "metadata": {},
   "source": [
    "## Iteration B"
   ]
  },
  {
   "cell_type": "code",
   "execution_count": 13,
   "metadata": {},
   "outputs": [],
   "source": [
    "# Parameterized SWAP\n",
    "rho_B = np.kron(ptrace(rho_A3),rho_plus)\n",
    "rho_B1 = U_ZZ @ rho_B @ dagger(U_ZZ)\n",
    "rho_B2 = U_YY @ rho_B1 @ dagger(U_YY)\n",
    "rho_B3 = U_XX @ rho_B2 @ dagger(U_XX)\n",
    "# Native SWAP\n",
    "rho_B3_swap = U @ rho_B @ dagger(U)"
   ]
  },
  {
   "cell_type": "code",
   "execution_count": 14,
   "metadata": {},
   "outputs": [
    {
     "name": "stdout",
     "output_type": "stream",
     "text": [
      "B initial q0 qubit state:\n",
      "[[0.875-0.j    0.125+0.217j]\n",
      " [0.125-0.217j 0.125+0.j   ]]\n",
      "B1 (after Z0Z2) q0 qubit state:\n",
      "[[0.875+0.j    0.108+0.187j]\n",
      " [0.108-0.187j 0.125+0.j   ]]\n",
      "B2 (after Y0Y2) q0 qubit state:\n",
      "[[0.825+0.j    0.219+0.187j]\n",
      " [0.219-0.187j 0.175-0.j   ]]\n",
      "B3 (after X0X2) q0 qubit state:\n",
      "[[0.688-0.j    0.219+0.325j]\n",
      " [0.219-0.325j 0.312+0.j   ]]\n",
      "---\n",
      "B3 (using native swap) q0 qubit state:\n",
      "[[0.687+0.j    0.219+0.325j]\n",
      " [0.219-0.325j 0.312-0.j   ]]\n"
     ]
    }
   ],
   "source": [
    "print('B initial q0 qubit state:')\n",
    "print(np.round(ptrace(rho_B),3))\n",
    "print('B1 (after Z0Z2) q0 qubit state:')\n",
    "print(np.round(ptrace(rho_B1),3))\n",
    "print('B2 (after Y0Y2) q0 qubit state:')\n",
    "print(np.round(ptrace(rho_B2),3))\n",
    "print('B3 (after X0X2) q0 qubit state:')\n",
    "print(np.round(ptrace(rho_B3),3))\n",
    "print('---')\n",
    "print('B3 (using native swap) q0 qubit state:')\n",
    "print(np.round(ptrace(rho_B3_swap),3))"
   ]
  },
  {
   "cell_type": "code",
   "execution_count": 15,
   "metadata": {},
   "outputs": [
    {
     "name": "stdout",
     "output_type": "stream",
     "text": [
      "B q0-q2 initial state:\n",
      "[[0.437-0.j    0.437-0.j    0.062+0.108j 0.062+0.108j]\n",
      " [0.437-0.j    0.437-0.j    0.062+0.108j 0.062+0.108j]\n",
      " [0.062-0.108j 0.062-0.108j 0.062+0.j    0.062+0.j   ]\n",
      " [0.062-0.108j 0.062-0.108j 0.062+0.j    0.062+0.j   ]]\n",
      "B3 q0-q2 2 qubit state using XXZ\n",
      "[[0.437-0.j    0.297-0.135j 0.203+0.244j 0.062+0.108j]\n",
      " [0.297+0.135j 0.25 +0.j    0.062+0.217j 0.016+0.081j]\n",
      " [0.203-0.244j 0.062-0.217j 0.25 +0.j    0.109+0.027j]\n",
      " [0.062-0.108j 0.016-0.081j 0.109-0.027j 0.062+0.j   ]]\n",
      "B3 q0-q2 2 qubit state using swap\n",
      "[[0.437+0.j    0.297-0.135j 0.203+0.244j 0.062+0.108j]\n",
      " [0.297+0.135j 0.25 +0.j    0.062+0.217j 0.016+0.081j]\n",
      " [0.203-0.244j 0.062-0.217j 0.25 +0.j    0.109+0.027j]\n",
      " [0.062-0.108j 0.016-0.081j 0.109-0.027j 0.062-0.j   ]]\n"
     ]
    }
   ],
   "source": [
    "print('B q0-q2 initial state:')\n",
    "print(np.round(rho_B,3))\n",
    "print('B3 q0-q2 2 qubit state using XXZ')\n",
    "print(np.round(rho_B3,3))\n",
    "print('B3 q0-q2 2 qubit state using swap')\n",
    "print(np.round(rho_B3_swap,3))"
   ]
  },
  {
   "cell_type": "code",
   "execution_count": 16,
   "metadata": {},
   "outputs": [
    {
     "data": {
      "text/plain": [
       "1.6389235550545282e-16"
      ]
     },
     "execution_count": 16,
     "metadata": {},
     "output_type": "execute_result"
    }
   ],
   "source": [
    "# Compare parameterized and native\n",
    "np.linalg.norm(rho_B3_swap-rho_B3)"
   ]
  },
  {
   "cell_type": "markdown",
   "metadata": {},
   "source": [
    "## Iteration C"
   ]
  },
  {
   "cell_type": "code",
   "execution_count": 17,
   "metadata": {},
   "outputs": [],
   "source": [
    "# Parameterized SWAP\n",
    "rho_C = np.kron(ptrace(rho_B3),rho_plus)\n",
    "rho_C1 = U_ZZ @ rho_C @ dagger(U_ZZ)\n",
    "rho_C2 = U_YY @ rho_C1 @ dagger(U_YY)\n",
    "rho_C3 = U_XX @ rho_C2 @ dagger(U_XX)\n",
    "\n",
    "# Native SWAP\n",
    "rho_C3_swap = U @ rho_C @ dagger(U)"
   ]
  },
  {
   "cell_type": "code",
   "execution_count": 18,
   "metadata": {},
   "outputs": [
    {
     "name": "stdout",
     "output_type": "stream",
     "text": [
      "C initial q0 qubit state:\n",
      "[[0.687-0.j    0.219+0.325j]\n",
      " [0.219-0.325j 0.312+0.j   ]]\n",
      "C1 (after Z0Z3) q0 qubit state:\n",
      "[[0.687+0.j    0.189+0.281j]\n",
      " [0.189-0.281j 0.312+0.j   ]]\n",
      "C2 (after Y0Y3) q0 qubit state:\n",
      "[[0.662-0.j    0.289+0.281j]\n",
      " [0.289-0.281j 0.338+0.j   ]]\n",
      "C3 (after X0X3) q0 qubit state:\n",
      "[[0.5  +0.j    0.289+0.325j]\n",
      " [0.289-0.325j 0.5  +0.j   ]]\n",
      "---\n",
      "C3 (using native swap) q0 qubit state:\n",
      "[[0.5  +0.j    0.289+0.325j]\n",
      " [0.289-0.325j 0.5  -0.j   ]]\n"
     ]
    }
   ],
   "source": [
    "print('C initial q0 qubit state:')\n",
    "print(np.round(ptrace(rho_C),3))\n",
    "print('C1 (after Z0Z3) q0 qubit state:')\n",
    "print(np.round(ptrace(rho_C1),3))\n",
    "print('C2 (after Y0Y3) q0 qubit state:')\n",
    "print(np.round(ptrace(rho_C2),3))\n",
    "print('C3 (after X0X3) q0 qubit state:')\n",
    "print(np.round(ptrace(rho_C3),3))\n",
    "print('---')\n",
    "print('C3 (using native swap) q0 qubit state:')\n",
    "print(np.round(ptrace(rho_C3_swap),3))"
   ]
  },
  {
   "cell_type": "code",
   "execution_count": 19,
   "metadata": {},
   "outputs": [
    {
     "name": "stdout",
     "output_type": "stream",
     "text": [
      "C q0-q3 initial state:\n",
      "[[0.344-0.j    0.344-0.j    0.109+0.162j 0.109+0.162j]\n",
      " [0.344-0.j    0.344-0.j    0.109+0.162j 0.109+0.162j]\n",
      " [0.109-0.162j 0.109-0.162j 0.156+0.j    0.156+0.j   ]\n",
      " [0.109-0.162j 0.109-0.162j 0.156+0.j    0.156+0.j   ]]\n",
      "C3 q0-q3 2 qubit state using XXZ\n",
      "[[0.344-0.j    0.215-0.061j 0.238+0.223j 0.109+0.162j]\n",
      " [0.215+0.061j 0.156+0.j    0.109+0.162j 0.051+0.101j]\n",
      " [0.238-0.223j 0.109-0.162j 0.344+0.j    0.215+0.061j]\n",
      " [0.109-0.162j 0.051-0.101j 0.215-0.061j 0.156-0.j   ]]\n",
      "C3 q0-q3 2 qubit state using swap\n",
      "[[0.344+0.j    0.215-0.061j 0.238+0.223j 0.109+0.162j]\n",
      " [0.215+0.061j 0.156+0.j    0.109+0.162j 0.051+0.101j]\n",
      " [0.238-0.223j 0.109-0.162j 0.344-0.j    0.215+0.061j]\n",
      " [0.109-0.162j 0.051-0.101j 0.215-0.061j 0.156+0.j   ]]\n"
     ]
    }
   ],
   "source": [
    "print('C q0-q3 initial state:')\n",
    "print(np.round(rho_C,3))\n",
    "print('C3 q0-q3 2 qubit state using XXZ')\n",
    "print(np.round(rho_C3,3))\n",
    "print('C3 q0-q3 2 qubit state using swap')\n",
    "print(np.round(rho_C3_swap,3))"
   ]
  },
  {
   "cell_type": "code",
   "execution_count": 20,
   "metadata": {},
   "outputs": [
    {
     "data": {
      "text/plain": [
       "1.9675159943996247e-16"
      ]
     },
     "execution_count": 20,
     "metadata": {},
     "output_type": "execute_result"
    }
   ],
   "source": [
    "# Compare parameterized and native\n",
    "np.linalg.norm(rho_C3_swap-rho_C3)"
   ]
  },
  {
   "cell_type": "markdown",
   "metadata": {},
   "source": [
    "## Output"
   ]
  },
  {
   "cell_type": "code",
   "execution_count": 21,
   "metadata": {},
   "outputs": [],
   "source": [
    "single_qubit_dm_pi_6 = {\n",
    "    '1Q_dm_A1': ptrace(rho_A1),\n",
    "    '1Q_dm_A2': ptrace(rho_A2),\n",
    "    '1Q_dm_A3': ptrace(rho_A3),\n",
    "    '1Q_dm_B1': ptrace(rho_B1),\n",
    "    '1Q_dm_B2': ptrace(rho_B2),\n",
    "    '1Q_dm_B3': ptrace(rho_B3),\n",
    "    '1Q_dm_C1': ptrace(rho_C1),\n",
    "    '1Q_dm_C2': ptrace(rho_C2),\n",
    "    '1Q_dm_C3': ptrace(rho_C3),\n",
    "}\n",
    "\n"
   ]
  },
  {
   "cell_type": "code",
   "execution_count": 22,
   "metadata": {},
   "outputs": [],
   "source": [
    "two_qubit_dm_pi_6 = {\n",
    "    '2Q_dm_A3': rho_A3,\n",
    "    '2Q_dm_B3': rho_B3,\n",
    "    '2Q_dm_C3': rho_C3,\n",
    "}"
   ]
  },
  {
   "cell_type": "code",
   "execution_count": 23,
   "metadata": {},
   "outputs": [],
   "source": [
    "import csv\n",
    "\n",
    "def write_to_csv(filename, data):\n",
    "    with open(filename, mode='w', newline='') as file:\n",
    "        writer = csv.writer(file)\n",
    "        writer.writerow(['Key', 'Values'])\n",
    "        for key, values in data.items():\n",
    "            formatted_values = [[str(elem) for elem in row] for row in values]\n",
    "            writer.writerow([key, formatted_values])\n",
    "\n",
    "write_to_csv('t_pi_6_DME_1q.csv', single_qubit_dm_pi_6)\n",
    "write_to_csv('t_pi_6_DME_2q.csv', two_qubit_dm_pi_6)\n"
   ]
  },
  {
   "cell_type": "code",
   "execution_count": 24,
   "metadata": {},
   "outputs": [
    {
     "name": "stdout",
     "output_type": "stream",
     "text": [
      "[['(0.9999999999999998+0j)' '0j']\n",
      " ['0j' '0j']]\n",
      "[['(0.4374999999999999-1.734723475976807e-17j)'\n",
      "  '(0.29687500000000006-0.13531646934131855j)'\n",
      "  '(0.2031249999999999+0.24356964481437332j)'\n",
      "  '(0.062499999999999944+0.10825317547305478j)']\n",
      " ['(0.296875+0.13531646934131852j)'\n",
      "  '(0.25000000000000006+1.5612511283791264e-17j)'\n",
      "  '(0.06249999999999995+0.21650635094610965j)'\n",
      "  '(0.015624999999999986+0.08118988160479111j)']\n",
      " ['(0.2031249999999999-0.2435696448143733j)'\n",
      "  '(0.062499999999999965-0.21650635094610962j)' '(0.2499999999999998+0j)'\n",
      "  '(0.10937499999999989+0.02706329386826368j)']\n",
      " ['(0.06249999999999997-0.10825317547305478j)'\n",
      "  '(0.015624999999999981-0.08118988160479113j)'\n",
      "  '(0.10937499999999992-0.027063293868263675j)'\n",
      "  '(0.06249999999999994+1.734723475976807e-18j)']]\n"
     ]
    }
   ],
   "source": [
    "import csv\n",
    "import numpy as np\n",
    "import ast  # Safer than eval for parsing strings to lists\n",
    "\n",
    "def load_from_csv(filename):\n",
    "    data_loaded = {}\n",
    "    with open(filename, mode='r', newline='') as file:\n",
    "        reader = csv.reader(file)\n",
    "        next(reader)  # Skip the header\n",
    "        for row in reader:\n",
    "            key = row[0]\n",
    "            # Safely convert the string representation of the array back to a list\n",
    "            values = ast.literal_eval(row[1])  \n",
    "            data_loaded[key] = np.asarray(values, dtype=np.complex128)  # Use complex128 for complex numbers\n",
    "    return data_loaded\n",
    "\n",
    "single_qubit_dm_pi_6_loaded = load_from_csv('t_pi_6_DME_1q.csv')\n",
    "two_qubit_dm_pi_6_loaded = load_from_csv('t_pi_6_DME_2q.csv')\n",
    "\n",
    "# Check the loaded dictionaries\n",
    "print(single_qubit_dm_pi_6_loaded['1Q_dm_A1'])\n",
    "print(two_qubit_dm_pi_6_loaded['2Q_dm_B3'])\n"
   ]
  },
  {
   "cell_type": "markdown",
   "metadata": {},
   "source": [
    "## Bloch sphere"
   ]
  },
  {
   "cell_type": "code",
   "execution_count": 25,
   "metadata": {},
   "outputs": [],
   "source": [
    "from qutip import Bloch, Qobj\n",
    "import qutip\n",
    "from moviepy.editor import ImageSequenceClip\n",
    "\n",
    "states = [Qobj(ptrace(rho_A1)),\n",
    "          Qobj(ptrace(rho_A2)),\n",
    "          Qobj(ptrace(rho_A3)),\n",
    "          Qobj(ptrace(rho_B1)),\n",
    "          Qobj(ptrace(rho_B2)),\n",
    "          Qobj(ptrace(rho_B3)),\n",
    "          Qobj(ptrace(rho_C1)),\n",
    "          Qobj(ptrace(rho_C2)),\n",
    "          Qobj(ptrace(rho_C3))]\n",
    "\n",
    "\n",
    "b = qutip.Bloch()\n",
    "b.vector_color = ['r']\n",
    "b.view = [-40, 30]\n",
    "\n",
    "for i, state in enumerate(states):\n",
    "    b.clear()\n",
    "    b.add_states(state)\n",
    "    b.save(dirc='temp')  # Custom filename for each state\n"
   ]
  },
  {
   "cell_type": "code",
   "execution_count": 26,
   "metadata": {},
   "outputs": [
    {
     "name": "stdout",
     "output_type": "stream",
     "text": [
      "MoviePy - Building file t_pi_6_DME.gif with imageio.\n"
     ]
    },
    {
     "name": "stderr",
     "output_type": "stream",
     "text": [
      "                                                  \r"
     ]
    }
   ],
   "source": [
    "\n",
    "# Create and save a video clip\n",
    "clip = ImageSequenceClip([f'temp/bloch_{i}.png' for i in range(9)], fps=5)\n",
    "clip.write_gif(\"t_pi_6_DME.gif\")\n"
   ]
  },
  {
   "cell_type": "code",
   "execution_count": null,
   "metadata": {},
   "outputs": [],
   "source": []
  }
 ],
 "metadata": {
  "kernelspec": {
   "display_name": "Python 3",
   "language": "python",
   "name": "python3"
  },
  "language_info": {
   "codemirror_mode": {
    "name": "ipython",
    "version": 3
   },
   "file_extension": ".py",
   "mimetype": "text/x-python",
   "name": "python",
   "nbconvert_exporter": "python",
   "pygments_lexer": "ipython3",
   "version": "3.12.6"
  }
 },
 "nbformat": 4,
 "nbformat_minor": 2
}
