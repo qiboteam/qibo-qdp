{
 "cells": [
  {
   "cell_type": "code",
   "execution_count": 11,
   "metadata": {},
   "outputs": [],
   "source": [
    "import numpy as np\n",
    "\n",
    "# Define Pauli matrices\n",
    "I = np.eye(2)\n",
    "X = np.array([[0, 1], [1, 0]])\n",
    "Y = np.array([[0, -1j], [1j, 0]])\n",
    "Z = np.array([[1, 0], [0, -1]])\n",
    "\n",
    "# Kronecker products for 2-qubit system\n",
    "pauli_labels = [a+b for a in ['I', 'X', 'Y', 'Z'] for b in ['I', 'X', 'Y', 'Z']]\n",
    "pauli_matrices = [np.kron(a, b) for a in [I, X, Y, Z] for b in [I, X, Y, Z]]\n"
   ]
  },
  {
   "cell_type": "code",
   "execution_count": 12,
   "metadata": {},
   "outputs": [],
   "source": [
    "def decompose_unitary(U):\n",
    "    \"\"\"Decompose a 2-qubit unitary matrix into Pauli terms.\"\"\"\n",
    "    coeffs = []\n",
    "    for P in pauli_matrices:\n",
    "        # Compute the coefficient for each Pauli matrix\n",
    "        coeff = np.trace(U @ P.conj().T) / 4\n",
    "        coeffs.append(coeff)\n",
    "    \n",
    "    decomposition = {label: coeff for label, coeff in zip(pauli_labels, coeffs)}\n",
    "    return decomposition\n",
    "\n",
    "def reconstruct_from_decomposition(decomposition):\n",
    "    \"\"\"Reconstruct the unitary matrix from the Pauli term decomposition.\"\"\"\n",
    "    return sum(decomposition[label] * P for label, P in zip(pauli_labels, pauli_matrices))\n"
   ]
  },
  {
   "cell_type": "code",
   "execution_count": 13,
   "metadata": {},
   "outputs": [
    {
     "name": "stdout",
     "output_type": "stream",
     "text": [
      "Original matrix U:\n",
      "[[1. 0. 0. 0.]\n",
      " [0. 1. 0. 0.]\n",
      " [0. 0. 1. 0.]\n",
      " [0. 0. 0. 1.]]\n",
      "\n",
      "Decomposition coefficients:\n",
      "II: 1.0\n",
      "IX: 0.0\n",
      "IY: 0j\n",
      "IZ: 0.0\n",
      "XI: 0.0\n",
      "XX: 0.0\n",
      "XY: 0j\n",
      "XZ: 0.0\n",
      "YI: 0j\n",
      "YX: 0j\n",
      "YY: 0j\n",
      "YZ: 0j\n",
      "ZI: 0.0\n",
      "ZX: 0.0\n",
      "ZY: 0j\n",
      "ZZ: 0.0\n",
      "\n",
      "Reconstructed matrix U:\n",
      "[[1.+0.j 0.+0.j 0.+0.j 0.+0.j]\n",
      " [0.+0.j 1.+0.j 0.+0.j 0.+0.j]\n",
      " [0.+0.j 0.+0.j 1.+0.j 0.+0.j]\n",
      " [0.+0.j 0.+0.j 0.+0.j 1.+0.j]]\n",
      "\n",
      "Difference between original and reconstructed matrix: 0.0\n"
     ]
    }
   ],
   "source": [
    "# Example 1: Identity matrix (4x4)\n",
    "U = np.eye(4)  # 2-qubit identity matrix\n",
    "print(\"Original matrix U:\")\n",
    "print(U)\n",
    "\n",
    "# Decompose and reconstruct\n",
    "decomposition = decompose_unitary(U)\n",
    "reconstructed_U = reconstruct_from_decomposition(decomposition)\n",
    "\n",
    "print(\"\\nDecomposition coefficients:\")\n",
    "for term, coeff in decomposition.items():\n",
    "    print(f\"{term}: {coeff}\")\n",
    "\n",
    "print(\"\\nReconstructed matrix U:\")\n",
    "print(reconstructed_U)\n",
    "\n",
    "# Check if the original and reconstructed matrices are equal\n",
    "difference = np.linalg.norm(U - reconstructed_U)\n",
    "print(f\"\\nDifference between original and reconstructed matrix: {difference}\")\n"
   ]
  },
  {
   "cell_type": "code",
   "execution_count": 15,
   "metadata": {},
   "outputs": [
    {
     "name": "stdout",
     "output_type": "stream",
     "text": [
      "\n",
      "Decomposition coefficients:\n",
      "II: (-0.1672404359736122+0.24893515595210114j)\n",
      "IX: (0.2989227244781403+0.23187715005196563j)\n",
      "IY: (0.03944617583103629+0.046040558896980346j)\n",
      "IZ: (-0.25209715661387444-0.10620056862796871j)\n",
      "XI: (-0.07762370469218106-0.005663421373001867j)\n",
      "XX: (-0.13719136362545314+0.21011871687707698j)\n",
      "XY: (-0.04454448018464918-0.20257324381117325j)\n",
      "XZ: (-0.012191828600234184+0.10615706952914176j)\n",
      "YI: (-0.21160717906739684+0.20002002814473058j)\n",
      "YX: (-0.10308340696650323+0.08793035658213207j)\n",
      "YY: (0.25452343872564115+0.2756806709160024j)\n",
      "YZ: (0.27144029145746834+0.2736285182108561j)\n",
      "ZI: (-0.22166715696321748+0.1828273703865052j)\n",
      "ZX: (0.05378039918205932-0.24432551802187208j)\n",
      "ZY: (0.039396175660583115-0.01104273228851603j)\n",
      "ZZ: (0.1334182425332869+0.08867943005062846j)\n",
      "\n",
      "Original random matrix U_random:\n",
      "[[-0.50758651+0.41424139j  0.38770095-0.09129072j  0.38383301+0.04066054j\n",
      "  -0.50635769+0.08206593j]\n",
      " [ 0.3177053 +0.06639398j -0.27022868+0.44928366j  0.40783568+0.54433831j\n",
      "  -0.13904037+0.37122698j]\n",
      " [-0.56346408+0.16032676j -0.17317153+0.42726046j -0.33108868-0.12877221j\n",
      "   0.30222562+0.47615267j]\n",
      " [-0.27707192-0.21318984j  0.00817661-0.59486796j  0.18805903+0.47625267j\n",
      "   0.43994212+0.26098778j]]\n",
      "\n",
      "Reconstructed random matrix U_random:\n",
      "[[-0.50758651+0.41424139j  0.38770095-0.09129072j  0.38383301+0.04066054j\n",
      "  -0.50635769+0.08206593j]\n",
      " [ 0.3177053 +0.06639398j -0.27022868+0.44928366j  0.40783568+0.54433831j\n",
      "  -0.13904037+0.37122698j]\n",
      " [-0.56346408+0.16032676j -0.17317153+0.42726046j -0.33108868-0.12877221j\n",
      "   0.30222562+0.47615267j]\n",
      " [-0.27707192-0.21318984j  0.00817661-0.59486796j  0.18805903+0.47625267j\n",
      "   0.43994212+0.26098778j]]\n",
      "\n",
      "Difference between original and reconstructed random matrix: 2.1854762094519229e-16\n"
     ]
    }
   ],
   "source": [
    "# Example 2: Random unitary matrix (4x4)\n",
    "from scipy.stats import unitary_group\n",
    "U_random = unitary_group.rvs(4)  # Generate a random 2-qubit unitary\n",
    "\n",
    "# Decompose and reconstruct the random unitary\n",
    "decomposition_random = decompose_unitary(U_random)\n",
    "reconstructed_U_random = reconstruct_from_decomposition(decomposition_random)\n",
    "\n",
    "print(\"\\nDecomposition coefficients:\")\n",
    "for term, coeff in decomposition_random.items():\n",
    "    print(f\"{term}: {coeff}\")\n",
    "\n",
    "print(\"\\nOriginal random matrix U_random:\")\n",
    "print(U_random)\n",
    "\n",
    "print(\"\\nReconstructed random matrix U_random:\")\n",
    "print(reconstructed_U_random)\n",
    "\n",
    "# Check if the original and reconstructed random matrices are equal\n",
    "difference_random = np.linalg.norm(U_random - reconstructed_U_random)\n",
    "print(f\"\\nDifference between original and reconstructed random matrix: {difference_random}\")\n"
   ]
  },
  {
   "cell_type": "code",
   "execution_count": null,
   "metadata": {},
   "outputs": [],
   "source": []
  }
 ],
 "metadata": {
  "kernelspec": {
   "display_name": "Python 3",
   "language": "python",
   "name": "python3"
  },
  "language_info": {
   "codemirror_mode": {
    "name": "ipython",
    "version": 3
   },
   "file_extension": ".py",
   "mimetype": "text/x-python",
   "name": "python",
   "nbconvert_exporter": "python",
   "pygments_lexer": "ipython3",
   "version": "3.11.9"
  }
 },
 "nbformat": 4,
 "nbformat_minor": 2
}
